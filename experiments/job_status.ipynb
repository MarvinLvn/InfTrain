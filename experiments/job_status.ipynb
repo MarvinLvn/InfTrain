{
 "cells": [
  {
   "cell_type": "code",
   "execution_count": 4,
   "metadata": {},
   "outputs": [],
   "source": [
    "import os\n",
    "import pandas as pd"
   ]
  },
  {
   "cell_type": "code",
   "execution_count": 5,
   "metadata": {},
   "outputs": [],
   "source": [
    "model_path = \"/gpfsscratch/rech/cfs/commun/InfTrain_models\"\n",
    "model_path = \"/gpfsssd/scratch/rech/ank/ucv88ce/projects/MultilingualCPC/checkpoints/inftrain\""
   ]
  },
  {
   "cell_type": "code",
   "execution_count": 6,
   "metadata": {},
   "outputs": [],
   "source": [
    "language = ['EN', 'FR']\n",
    "language = ['EN+FR']\n",
    "\n",
    "list_exp = []\n",
    "cpc_size = []\n",
    "lm_model = []\n",
    "\n",
    "for power in reversed(range(7)):\n",
    "    size = str(50*2**(6-power)) + 'h'\n",
    "    for share in range(0, 2**power):\n",
    "        share_nb = str(share).zfill(2)\n",
    "        for lang in language:\n",
    "            list_exp.append('{}/{}/{}'.format(lang, size, share_nb))\n",
    "            if power <= 2:\n",
    "                cpc_size.append(\"cpc_big\")\n",
    "                lm_model.append(\"bert_large\")\n",
    "            else:\n",
    "                cpc_size.append(\"cpc_small\")\n",
    "                lm_model.append(\"lstm\")\n",
    "\n",
    "total_experiments = len(list_exp)"
   ]
  },
  {
   "cell_type": "code",
   "execution_count": 7,
   "metadata": {},
   "outputs": [],
   "source": [
    "status_cpc = []\n",
    "for exp, size in zip(list_exp, cpc_size):\n",
    "    if os.path.isdir(os.path.join(model_path, exp, size)):\n",
    "        if \"done.state\" in os.listdir(os.path.join(model_path, exp, size)):\n",
    "            status_cpc.append(\"done\")\n",
    "        elif \"running.state\" in os.listdir(os.path.join(model_path, exp, size)):\n",
    "            status_cpc.append(\"running\")\n",
    "        else:\n",
    "            status_cpc.append(\"NA\")\n",
    "    else:\n",
    "        status_cpc.append(\"NA\")\n",
    "        \n",
    "status_kmeans = []\n",
    "for exp in list_exp:\n",
    "    if os.path.isdir(os.path.join(model_path, exp, \"kmeans_50\")):\n",
    "        if \"done.state\" in os.listdir(os.path.join(model_path, exp, \"kmeans_50\")):\n",
    "            status_kmeans.append(\"done\")\n",
    "        else:\n",
    "            status_kmeans.append(\"running\")\n",
    "    else:\n",
    "        status_kmeans.append(\"NA\")\n",
    "        \n",
    "status_lm = []\n",
    "for exp, lm in zip(list_exp, lm_model):\n",
    "    if os.path.isdir(os.path.join(model_path, exp, lm)):\n",
    "        if \"done.state\" in os.listdir(os.path.join(model_path, exp, lm)):\n",
    "            status_lm.append(\"done\")\n",
    "        else:\n",
    "            status_lm.append(\"running\")\n",
    "    else:\n",
    "        status_lm.append(\"NA\")"
   ]
  },
  {
   "cell_type": "code",
   "execution_count": 8,
   "metadata": {},
   "outputs": [],
   "source": [
    "status = pd.DataFrame({\n",
    "    \"experiment\": list_exp, \n",
    "    \"status_cpc\": status_cpc,\n",
    "    \"status_kmeans\": status_kmeans,\n",
    "    \"status_lm\": status_lm\n",
    "})"
   ]
  },
  {
   "cell_type": "code",
   "execution_count": 9,
   "metadata": {},
   "outputs": [],
   "source": [
    "cpc_done = status[status[\"status_cpc\"]==\"done\"].shape[0]\n",
    "cpc_running = status[status[\"status_cpc\"]==\"running\"].shape[0]\n",
    "\n",
    "kmeans_done = status[status[\"status_kmeans\"]==\"done\"].shape[0]\n",
    "kmeans_running = status[status[\"status_kmeans\"]==\"running\"].shape[0]\n",
    "\n",
    "lm_done = status[status[\"status_lm\"]==\"done\"].shape[0]\n",
    "lm_running = status[status[\"status_lm\"]==\"running\"].shape[0]"
   ]
  },
  {
   "cell_type": "code",
   "execution_count": 10,
   "metadata": {},
   "outputs": [
    {
     "name": "stdout",
     "output_type": "stream",
     "text": [
      "##### Status #####\n",
      "\n",
      "CPC :\n",
      "Models running       : 10/127\n",
      "Models fully trained : 0/127\n",
      "\n",
      "K-means :\n",
      "Models running       : 0/127\n",
      "Models fully trained : 0/127\n",
      "\n",
      "Language models :\n",
      "Models running       : 0/127\n",
      "Models fully trained : 0/127\n",
      "\n"
     ]
    }
   ],
   "source": [
    "# Print status\n",
    "print(\"##### Status #####\\n\")\n",
    "\n",
    "print(\"CPC :\")\n",
    "print(\"Models running       : {}/{}\".format(cpc_running, total_experiments))\n",
    "print(\"Models fully trained : {}/{}\\n\".format(cpc_done, total_experiments))\n",
    "\n",
    "print(\"K-means :\")\n",
    "print(\"Models running       : {}/{}\".format(kmeans_running, total_experiments))\n",
    "print(\"Models fully trained : {}/{}\\n\".format(kmeans_done, total_experiments))\n",
    "\n",
    "print(\"Language models :\")\n",
    "print(\"Models running       : {}/{}\".format(lm_running, total_experiments))\n",
    "print(\"Models fully trained : {}/{}\\n\".format(lm_done, total_experiments))"
   ]
  },
  {
   "cell_type": "code",
   "execution_count": null,
   "metadata": {},
   "outputs": [],
   "source": []
  }
 ],
 "metadata": {
  "kernelspec": {
   "display_name": "Python 3",
   "language": "python",
   "name": "python3"
  },
  "language_info": {
   "codemirror_mode": {
    "name": "ipython",
    "version": 3
   },
   "file_extension": ".py",
   "mimetype": "text/x-python",
   "name": "python",
   "nbconvert_exporter": "python",
   "pygments_lexer": "ipython3",
   "version": "3.7.9"
  }
 },
 "nbformat": 4,
 "nbformat_minor": 4
}
