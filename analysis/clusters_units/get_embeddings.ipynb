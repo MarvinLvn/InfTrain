{
 "cells": [
  {
   "cell_type": "code",
   "execution_count": 2,
   "id": "f2e31efe",
   "metadata": {},
   "outputs": [
    {
     "name": "stdout",
     "output_type": "stream",
     "text": [
      "['/gpfsdswork/projects/rech/ank/ucv88ce/repos/zerospeech2021_baseline/scripts', '/gpfsdswork/projects/rech/ank/ucv88ce/repos/CPC_torch/cpc/eval', '/gpfsdswork/projects/rech/ank/ucv88ce/repos/CPC_torch', '/gpfsdswork/projects/rech/ank/ucv88ce/projects/MultilingualCPC/analysis/clusters_units', '/gpfswork/rech/ank/ucv88ce/miniconda3/envs/inftrain/lib/python38.zip', '/gpfswork/rech/ank/ucv88ce/miniconda3/envs/inftrain/lib/python3.8', '/gpfswork/rech/ank/ucv88ce/miniconda3/envs/inftrain/lib/python3.8/lib-dynload', '', '/gpfswork/rech/ank/ucv88ce/miniconda3/envs/inftrain/lib/python3.8/site-packages', '/gpfsdswork/projects/rech/ank/ucv88ce/repos/CPC_torch', '/gpfswork/rech/ank/ucv88ce/miniconda3/envs/inftrain/lib/python3.8/site-packages/IPython/extensions', '/gpfs7kw/linkhome/rech/genini01/ucv88ce/.ipython']\n"
     ]
    }
   ],
   "source": [
    "import sys\n",
    "import os \n",
    "\n",
    "sys.path.insert(0, \"/gpfsdswork/projects/rech/ank/ucv88ce/repos/CPC_torch\")\n",
    "sys.path.insert(0, \"/gpfsdswork/projects/rech/ank/ucv88ce/repos/CPC_torch/cpc/eval\")\n",
    "#sys.path.insert(0, \"/gpfsdswork/projects/rech/ank/ucv88ce/repos/CPC_audio/cpc/eval\")\n",
    "#sys.path.insert(0, \"/gpfsdswork/projects/rech/ank/ucv88ce/repos/CPC_audio/cpc\")\n",
    "\n",
    "sys.path.insert(0, \"/gpfsdswork/projects/rech/ank/ucv88ce/repos/zerospeech2021_baseline/scripts\")\n",
    "\n",
    "print(sys.path)"
   ]
  },
  {
   "cell_type": "code",
   "execution_count": 3,
   "id": "d5e1bb6d",
   "metadata": {},
   "outputs": [],
   "source": [
    "import glob\n",
    "import pickle\n",
    "from tqdm import tqdm\n",
    "import os"
   ]
  },
  {
   "cell_type": "code",
   "execution_count": 4,
   "id": "399b9bed",
   "metadata": {},
   "outputs": [
    {
     "name": "stderr",
     "output_type": "stream",
     "text": [
      "/gpfswork/rech/ank/ucv88ce/miniconda3/envs/inftrain/lib/python3.8/site-packages/torchaudio/backend/utils.py:53: UserWarning: \"sox\" backend is being deprecated. The default backend will be changed to \"sox_io\" backend in 0.8.0 and \"sox\" backend will be removed in 0.9.0. Please migrate to \"sox_io\" backend. Please refer to https://github.com/pytorch/audio/issues/903 for the detail.\n",
      "  warnings.warn(\n"
     ]
    }
   ],
   "source": [
    "import pyximport\n",
    "pyximport.install()\n",
    "\n",
    "import json\n",
    "from os.path import exists, splitext, basename\n",
    "from pathlib import Path\n",
    "\n",
    "import torch\n",
    "from cpc.criterion.clustering.clustering import loadClusterModule\n",
    "import cpc.eval.eval_ABX\n",
    "\n",
    "from cpc.eval.eval_ABX_clustering import ClusteringFeatures\n",
    "\n",
    "from cpc.feature_loader import buildFeature, FeatureModule, loadModel\n"
   ]
  },
  {
   "cell_type": "code",
   "execution_count": 5,
   "id": "75db6c87",
   "metadata": {},
   "outputs": [],
   "source": [
    "#find a way to use jupyter notebook with gpu\n",
    "#srun --ntasks=1 --cpus-per-task=10 --gres=gpu:1 --hint=nomultithread --time=01:00:00 --pty bash "
   ]
  },
  {
   "cell_type": "code",
   "execution_count": 10,
   "id": "13e07558",
   "metadata": {},
   "outputs": [
    {
     "name": "stdout",
     "output_type": "stream",
     "text": [
      "=============================================================\n",
      "Building CPC features from /gpfsscratch/rech/cfs/commun/cv21_ABX/raw_dataset/en\n",
      "=============================================================\n",
      "\n",
      "Looking for all wav files in /gpfsscratch/rech/cfs/commun/cv21_ABX/raw_dataset/en\n",
      "Loaded from cache /gpfsscratch/rech/cfs/commun/cv21_ABX/raw_dataset/en/_seqs_cache.txt successfully\n",
      "Done! Found 7042 files!\n",
      "\n",
      "Creating the output directory at /gpfsssd/scratch/rech/ank/ucv88ce/projects/MultilingualCPC/checkpoints/inftrain/EN+FR/3200h/00/features/cpc_small/CV_en\n",
      "Writing args to /gpfsssd/scratch/rech/ank/ucv88ce/projects/MultilingualCPC/checkpoints/inftrain/EN+FR/3200h/00/features/cpc_small/CV_en/_info_args.json\n",
      "\n",
      "Loading CPC featureMaker from /gpfsssd/scratch/rech/ank/ucv88ce/projects/MultilingualCPC/checkpoints/inftrain/EN+FR/3200h/00/cpc_small/checkpoint_25.pt\n",
      "Loading checkpoint /gpfsssd/scratch/rech/ank/ucv88ce/projects/MultilingualCPC/checkpoints/inftrain/EN+FR/3200h/00/cpc_small/checkpoint_25.pt\n",
      "Updating the configuration file with \n",
      "{\n",
      "    \"nLevelsGRU\": 2\n",
      "}\n",
      "Loading the state dict at /gpfsssd/scratch/rech/ank/ucv88ce/projects/MultilingualCPC/checkpoints/inftrain/EN+FR/3200h/00/cpc_small/checkpoint_25.pt\n"
     ]
    },
    {
     "name": "stderr",
     "output_type": "stream",
     "text": [
      "\r",
      "N/A% (0 of 7042) |                       | Elapsed Time: 0:00:00 ETA:  --:--:--"
     ]
    },
    {
     "name": "stdout",
     "output_type": "stream",
     "text": [
      "CPC FeatureMaker loaded!\n",
      "\n",
      "Building CPC features and saving outputs to /gpfsssd/scratch/rech/ank/ucv88ce/projects/MultilingualCPC/checkpoints/inftrain/EN+FR/3200h/00/features/cpc_small/CV_en...\n"
     ]
    },
    {
     "name": "stderr",
     "output_type": "stream",
     "text": [
      "100% (7042 of 7042) |####################| Elapsed Time: 0:16:57 Time:  0:16:57\n"
     ]
    },
    {
     "name": "stdout",
     "output_type": "stream",
     "text": [
      "...done 7042 files in 1017.6764810085297 seconds.\n"
     ]
    }
   ],
   "source": [
    "os.makedirs(\"/gpfsssd/scratch/rech/ank/ucv88ce/projects/MultilingualCPC/checkpoints/inftrain/EN+FR/3200h/00/cpc_small/features/CV_en\", exist_ok=True) \n",
    "\n",
    "%run /gpfsdswork/projects/rech/ank/ucv88ce/repos/zerospeech2021_baseline/scripts/build_CPC_features.py \\\n",
    "    \"/gpfsssd/scratch/rech/ank/ucv88ce/projects/MultilingualCPC/checkpoints/inftrain/EN+FR/3200h/00/cpc_small/checkpoint_25.pt\" \\\n",
    "    \"/gpfsscratch/rech/cfs/commun/cv21_ABX/raw_dataset/en\" \\\n",
    "    \"/gpfsssd/scratch/rech/ank/ucv88ce/projects/MultilingualCPC/checkpoints/inftrain/EN+FR/3200h/00/features/cpc_small/CV_en\" \\\n",
    "    --file_extension wav --gru_level 2"
   ]
  },
  {
   "cell_type": "code",
   "execution_count": 11,
   "id": "1b08cec1",
   "metadata": {},
   "outputs": [
    {
     "name": "stdout",
     "output_type": "stream",
     "text": [
      "=============================================================\n",
      "Building CPC features from /gpfsscratch/rech/cfs/commun/cv21_ABX/raw_dataset/fr\n",
      "=============================================================\n",
      "\n",
      "Looking for all wav files in /gpfsscratch/rech/cfs/commun/cv21_ABX/raw_dataset/fr\n",
      "Loaded from cache /gpfsscratch/rech/cfs/commun/cv21_ABX/raw_dataset/fr/_seqs_cache.txt successfully\n",
      "Done! Found 7795 files!\n",
      "\n",
      "Creating the output directory at /gpfsssd/scratch/rech/ank/ucv88ce/projects/MultilingualCPC/checkpoints/inftrain/EN+FR/3200h/00/features/cpc_small/CV_fr\n",
      "Writing args to /gpfsssd/scratch/rech/ank/ucv88ce/projects/MultilingualCPC/checkpoints/inftrain/EN+FR/3200h/00/features/cpc_small/CV_fr/_info_args.json\n",
      "\n",
      "Loading CPC featureMaker from /gpfsssd/scratch/rech/ank/ucv88ce/projects/MultilingualCPC/checkpoints/inftrain/EN+FR/3200h/00/cpc_small/checkpoint_25.pt\n",
      "Loading checkpoint /gpfsssd/scratch/rech/ank/ucv88ce/projects/MultilingualCPC/checkpoints/inftrain/EN+FR/3200h/00/cpc_small/checkpoint_25.pt\n",
      "Updating the configuration file with \n",
      "{\n",
      "    \"nLevelsGRU\": 2\n",
      "}\n",
      "Loading the state dict at /gpfsssd/scratch/rech/ank/ucv88ce/projects/MultilingualCPC/checkpoints/inftrain/EN+FR/3200h/00/cpc_small/checkpoint_25.pt\n"
     ]
    },
    {
     "name": "stderr",
     "output_type": "stream",
     "text": [
      "  0% (1 of 7795) |                       | Elapsed Time: 0:00:00 ETA:   0:13:13"
     ]
    },
    {
     "name": "stdout",
     "output_type": "stream",
     "text": [
      "CPC FeatureMaker loaded!\n",
      "\n",
      "Building CPC features and saving outputs to /gpfsssd/scratch/rech/ank/ucv88ce/projects/MultilingualCPC/checkpoints/inftrain/EN+FR/3200h/00/features/cpc_small/CV_fr...\n"
     ]
    },
    {
     "name": "stderr",
     "output_type": "stream",
     "text": [
      "100% (7795 of 7795) |####################| Elapsed Time: 0:16:59 Time:  0:16:59\n"
     ]
    },
    {
     "name": "stdout",
     "output_type": "stream",
     "text": [
      "...done 7795 files in 1019.2062411308289 seconds.\n"
     ]
    }
   ],
   "source": [
    "os.makedirs(\"/gpfsssd/scratch/rech/ank/ucv88ce/projects/MultilingualCPC/checkpoints/inftrain/EN+FR/3200h/00/cpc_small/features/CV_en\", exist_ok=True) \n",
    "\n",
    "%run /gpfsdswork/projects/rech/ank/ucv88ce/repos/zerospeech2021_baseline/scripts/build_CPC_features.py \\\n",
    "    \"/gpfsssd/scratch/rech/ank/ucv88ce/projects/MultilingualCPC/checkpoints/inftrain/EN+FR/3200h/00/cpc_small/checkpoint_25.pt\" \\\n",
    "    \"/gpfsscratch/rech/cfs/commun/cv21_ABX/raw_dataset/fr\" \\\n",
    "    \"/gpfsssd/scratch/rech/ank/ucv88ce/projects/MultilingualCPC/checkpoints/inftrain/EN+FR/3200h/00/features/cpc_small/CV_fr\" \\\n",
    "    --file_extension wav --gru_level 2"
   ]
  },
  {
   "cell_type": "code",
   "execution_count": null,
   "id": "22be401e",
   "metadata": {},
   "outputs": [],
   "source": [
    "\n",
    "os.makedirs(\"/gpfsssd/scratch/rech/ank/ucv88ce/projects/MultilingualCPC/checkpoints/inftrain/EN+FR/3200h/00/cpc_small/features/CV_en\", exist_ok=True) \n",
    "\n",
    "%run /gpfsdswork/projects/rech/ank/ucv88ce/repos/zerospeech2021_baseline/scripts/build_CPC_features.py \\\n",
    "    \"/gpfsssd/scratch/rech/ank/ucv88ce/projects/MultilingualCPC/checkpoints/inftrain/EN+FR/3200h/00/cpc_small/checkpoint_25.pt\" \\\n",
    "    \"/gpfsscratch/rech/cfs/commun/cv21_ABX/raw_dataset/en\" \\\n",
    "    \"/gpfsssd/scratch/rech/ank/ucv88ce/projects/MultilingualCPC/checkpoints/inftrain/EN+FR/3200h/00/features/cpc_small/CV_en\" \\\n",
    "    --file_extension wav --gru_level 2"
   ]
  },
  {
   "cell_type": "markdown",
   "id": "22a62433",
   "metadata": {},
   "source": [
    "###### "
   ]
  },
  {
   "cell_type": "code",
   "execution_count": 6,
   "id": "9273525f",
   "metadata": {},
   "outputs": [
    {
     "name": "stdout",
     "output_type": "stream",
     "text": [
      "=============================================================\n",
      "Building CPC features from /gpfsscratch/rech/cfs/commun/cv21_ABX/raw_dataset/en\n",
      "=============================================================\n",
      "\n",
      "Looking for all wav files in /gpfsscratch/rech/cfs/commun/cv21_ABX/raw_dataset/en\n",
      "Loaded from cache /gpfsscratch/rech/cfs/commun/cv21_ABX/raw_dataset/en/_seqs_cache.txt successfully\n",
      "Done! Found 7042 files!\n",
      "Found existing output directory at /gpfsssd/scratch/rech/ank/ucv88ce/projects/MultilingualCPC/checkpoints/inftrain/EN+FR/1600h/00/features/cpc_small/CV_en, continue to build features of 7042 audio files left!\n",
      "Writing args to /gpfsssd/scratch/rech/ank/ucv88ce/projects/MultilingualCPC/checkpoints/inftrain/EN+FR/1600h/00/features/cpc_small/CV_en/_info_args.json\n",
      "\n",
      "Loading CPC featureMaker from /gpfsssd/scratch/rech/ank/ucv88ce/projects/MultilingualCPC/checkpoints/inftrain/EN+FR/1600h/00/cpc_small/checkpoint_25.pt\n",
      "Loading checkpoint /gpfsssd/scratch/rech/ank/ucv88ce/projects/MultilingualCPC/checkpoints/inftrain/EN+FR/1600h/00/cpc_small/checkpoint_25.pt\n",
      "Updating the configuration file with \n",
      "{\n",
      "    \"nLevelsGRU\": 2\n",
      "}\n",
      "Loading the state dict at /gpfsssd/scratch/rech/ank/ucv88ce/projects/MultilingualCPC/checkpoints/inftrain/EN+FR/1600h/00/cpc_small/checkpoint_25.pt\n"
     ]
    },
    {
     "name": "stderr",
     "output_type": "stream",
     "text": [
      "  0% (1 of 7042) |                       | Elapsed Time: 0:00:00 ETA:   0:12:31"
     ]
    },
    {
     "name": "stdout",
     "output_type": "stream",
     "text": [
      "CPC FeatureMaker loaded!\n",
      "\n",
      "Building CPC features and saving outputs to /gpfsssd/scratch/rech/ank/ucv88ce/projects/MultilingualCPC/checkpoints/inftrain/EN+FR/1600h/00/features/cpc_small/CV_en...\n"
     ]
    },
    {
     "name": "stderr",
     "output_type": "stream",
     "text": [
      " 14% (1054 of 7042) |##                  | Elapsed Time: 0:02:37 ETA:   0:14:36"
     ]
    },
    {
     "ename": "KeyboardInterrupt",
     "evalue": "",
     "output_type": "error",
     "traceback": [
      "\u001b[0;31m---------------------------------------------------------------------------\u001b[0m",
      "\u001b[0;31mKeyboardInterrupt\u001b[0m                         Traceback (most recent call last)",
      "\u001b[0;32m/gpfsdswork/projects/rech/ank/ucv88ce/repos/zerospeech2021_baseline/scripts/build_CPC_features.py\u001b[0m in \u001b[0;36m<module>\u001b[0;34m\u001b[0m\n\u001b[1;32m    133\u001b[0m \u001b[0;32mif\u001b[0m \u001b[0m__name__\u001b[0m \u001b[0;34m==\u001b[0m \u001b[0;34m\"__main__\"\u001b[0m\u001b[0;34m:\u001b[0m\u001b[0;34m\u001b[0m\u001b[0;34m\u001b[0m\u001b[0m\n\u001b[1;32m    134\u001b[0m     \u001b[0margs\u001b[0m \u001b[0;34m=\u001b[0m \u001b[0msys\u001b[0m\u001b[0;34m.\u001b[0m\u001b[0margv\u001b[0m\u001b[0;34m[\u001b[0m\u001b[0;36m1\u001b[0m\u001b[0;34m:\u001b[0m\u001b[0;34m]\u001b[0m\u001b[0;34m\u001b[0m\u001b[0;34m\u001b[0m\u001b[0m\n\u001b[0;32m--> 135\u001b[0;31m     \u001b[0mmain\u001b[0m\u001b[0;34m(\u001b[0m\u001b[0margs\u001b[0m\u001b[0;34m)\u001b[0m\u001b[0;34m\u001b[0m\u001b[0;34m\u001b[0m\u001b[0m\n\u001b[0m",
      "\u001b[0;32m/gpfsdswork/projects/rech/ank/ucv88ce/repos/zerospeech2021_baseline/scripts/build_CPC_features.py\u001b[0m in \u001b[0;36mmain\u001b[0;34m(argv)\u001b[0m\n\u001b[1;32m    127\u001b[0m         \u001b[0mfile_name\u001b[0m \u001b[0;34m=\u001b[0m \u001b[0mos\u001b[0m\u001b[0;34m.\u001b[0m\u001b[0mpath\u001b[0m\u001b[0;34m.\u001b[0m\u001b[0msplitext\u001b[0m\u001b[0;34m(\u001b[0m\u001b[0mos\u001b[0m\u001b[0;34m.\u001b[0m\u001b[0mpath\u001b[0m\u001b[0;34m.\u001b[0m\u001b[0mbasename\u001b[0m\u001b[0;34m(\u001b[0m\u001b[0mfile_path\u001b[0m\u001b[0;34m)\u001b[0m\u001b[0;34m)\u001b[0m\u001b[0;34m[\u001b[0m\u001b[0;36m0\u001b[0m\u001b[0;34m]\u001b[0m \u001b[0;34m+\u001b[0m \u001b[0;34m\".txt\"\u001b[0m\u001b[0;34m\u001b[0m\u001b[0;34m\u001b[0m\u001b[0m\n\u001b[1;32m    128\u001b[0m         \u001b[0mfile_out\u001b[0m \u001b[0;34m=\u001b[0m \u001b[0mos\u001b[0m\u001b[0;34m.\u001b[0m\u001b[0mpath\u001b[0m\u001b[0;34m.\u001b[0m\u001b[0mjoin\u001b[0m\u001b[0;34m(\u001b[0m\u001b[0margs\u001b[0m\u001b[0;34m.\u001b[0m\u001b[0mpathOutputDir\u001b[0m\u001b[0;34m,\u001b[0m \u001b[0mfile_name\u001b[0m\u001b[0;34m)\u001b[0m\u001b[0;34m\u001b[0m\u001b[0;34m\u001b[0m\u001b[0m\n\u001b[0;32m--> 129\u001b[0;31m         \u001b[0mnp\u001b[0m\u001b[0;34m.\u001b[0m\u001b[0msavetxt\u001b[0m\u001b[0;34m(\u001b[0m\u001b[0mfile_out\u001b[0m\u001b[0;34m,\u001b[0m \u001b[0mCPC_features\u001b[0m\u001b[0;34m)\u001b[0m\u001b[0;34m\u001b[0m\u001b[0;34m\u001b[0m\u001b[0m\n\u001b[0m\u001b[1;32m    130\u001b[0m     \u001b[0mbar\u001b[0m\u001b[0;34m.\u001b[0m\u001b[0mfinish\u001b[0m\u001b[0;34m(\u001b[0m\u001b[0;34m)\u001b[0m\u001b[0;34m\u001b[0m\u001b[0;34m\u001b[0m\u001b[0m\n\u001b[1;32m    131\u001b[0m     \u001b[0mprint\u001b[0m\u001b[0;34m(\u001b[0m\u001b[0;34mf\"...done {len(seqNames)} files in {time()-start_time} seconds.\"\u001b[0m\u001b[0;34m)\u001b[0m\u001b[0;34m\u001b[0m\u001b[0;34m\u001b[0m\u001b[0m\n",
      "\u001b[0;32m<__array_function__ internals>\u001b[0m in \u001b[0;36msavetxt\u001b[0;34m(*args, **kwargs)\u001b[0m\n",
      "\u001b[0;32m/gpfswork/rech/ank/ucv88ce/miniconda3/envs/inftrain/lib/python3.8/site-packages/numpy/lib/npyio.py\u001b[0m in \u001b[0;36msavetxt\u001b[0;34m(fname, X, fmt, delimiter, newline, header, footer, comments, encoding)\u001b[0m\n\u001b[1;32m   1422\u001b[0m             \u001b[0;32mfor\u001b[0m \u001b[0mrow\u001b[0m \u001b[0;32min\u001b[0m \u001b[0mX\u001b[0m\u001b[0;34m:\u001b[0m\u001b[0;34m\u001b[0m\u001b[0;34m\u001b[0m\u001b[0m\n\u001b[1;32m   1423\u001b[0m                 \u001b[0;32mtry\u001b[0m\u001b[0;34m:\u001b[0m\u001b[0;34m\u001b[0m\u001b[0;34m\u001b[0m\u001b[0m\n\u001b[0;32m-> 1424\u001b[0;31m                     \u001b[0mv\u001b[0m \u001b[0;34m=\u001b[0m \u001b[0mformat\u001b[0m \u001b[0;34m%\u001b[0m \u001b[0mtuple\u001b[0m\u001b[0;34m(\u001b[0m\u001b[0mrow\u001b[0m\u001b[0;34m)\u001b[0m \u001b[0;34m+\u001b[0m \u001b[0mnewline\u001b[0m\u001b[0;34m\u001b[0m\u001b[0;34m\u001b[0m\u001b[0m\n\u001b[0m\u001b[1;32m   1425\u001b[0m                 \u001b[0;32mexcept\u001b[0m \u001b[0mTypeError\u001b[0m\u001b[0;34m:\u001b[0m\u001b[0;34m\u001b[0m\u001b[0;34m\u001b[0m\u001b[0m\n\u001b[1;32m   1426\u001b[0m                     raise TypeError(\"Mismatch between array dtype ('%s') and \"\n",
      "\u001b[0;31mKeyboardInterrupt\u001b[0m: "
     ]
    }
   ],
   "source": [
    "#os.makedirs(\"/gpfsssd/scratch/rech/ank/ucv88ce/projects/MultilingualCPC/checkpoints/inftrain/EN+FR/1600h/00/cpc_small/features/CV_en\", exist_ok=True) \n",
    "\n",
    "#%run /gpfsdswork/projects/rech/ank/ucv88ce/repos/zerospeech2021_baseline/scripts/build_CPC_features.py \\\n",
    "#    \"/gpfsssd/scratch/rech/ank/ucv88ce/projects/MultilingualCPC/checkpoints/inftrain/EN+FR/1600h/00/cpc_small/checkpoint_25.pt\" \\\n",
    "#    \"/gpfsscratch/rech/cfs/commun/cv21_ABX/raw_dataset/fr\" \\\n",
    "#    \"/gpfsssd/scratch/rech/ank/ucv88ce/projects/MultilingualCPC/checkpoints/inftrain/EN+FR/1600h/00/features/cpc_small/CV_fr\" \\\n",
    "#    --file_extension wav --gru_level 2\n",
    "\n",
    "\n",
    "os.makedirs(\"/gpfsssd/scratch/rech/ank/ucv88ce/projects/MultilingualCPC/checkpoints/inftrain/EN+FR/1600h/00/cpc_small/features/CV_en\", exist_ok=True) \n",
    "\n",
    "%run /gpfsdswork/projects/rech/ank/ucv88ce/repos/zerospeech2021_baseline/scripts/build_CPC_features.py \\\n",
    "    \"/gpfsssd/scratch/rech/ank/ucv88ce/projects/MultilingualCPC/checkpoints/inftrain/EN+FR/1600h/00/cpc_small/checkpoint_25.pt\" \\\n",
    "    \"/gpfsscratch/rech/cfs/commun/cv21_ABX/raw_dataset/en\" \\\n",
    "    \"/gpfsssd/scratch/rech/ank/ucv88ce/projects/MultilingualCPC/checkpoints/inftrain/EN+FR/1600h/00/features/cpc_small/CV_en\" \\\n",
    "    --file_extension wav --gru_level 2"
   ]
  },
  {
   "cell_type": "code",
   "execution_count": null,
   "id": "1317379d",
   "metadata": {},
   "outputs": [],
   "source": [
    "os.makedirs(\"/gpfsssd/scratch/rech/ank/ucv88ce/projects/MultilingualCPC/checkpoints/inftrain/EN+FR/800h/00/cpc_small/features/CV_en\", exist_ok=True) \n",
    "\n",
    "%run /gpfsdswork/projects/rech/ank/ucv88ce/repos/zerospeech2021_baseline/scripts/build_CPC_features.py \\\n",
    "    \"/gpfsssd/scratch/rech/ank/ucv88ce/projects/MultilingualCPC/checkpoints/inftrain/EN+FR/800h/00/cpc_small/checkpoint_25.pt\" \\\n",
    "    \"/gpfsscratch/rech/cfs/commun/cv21_ABX/raw_dataset/fr\" \\\n",
    "    \"/gpfsssd/scratch/rech/ank/ucv88ce/projects/MultilingualCPC/checkpoints/inftrain/EN+FR/800h/00/features/cpc_small/CV_fr\" \\\n",
    "    --file_extension wav --gru_level 2\n",
    "\n",
    "\n",
    "os.makedirs(\"/gpfsssd/scratch/rech/ank/ucv88ce/projects/MultilingualCPC/checkpoints/inftrain/EN+FR/800h/00/cpc_small/features/CV_en\", exist_ok=True) \n",
    "\n",
    "%run /gpfsdswork/projects/rech/ank/ucv88ce/repos/zerospeech2021_baseline/scripts/build_CPC_features.py \\\n",
    "    \"/gpfsssd/scratch/rech/ank/ucv88ce/projects/MultilingualCPC/checkpoints/inftrain/EN+FR/800h/00/cpc_small/checkpoint_25.pt\" \\\n",
    "    \"/gpfsscratch/rech/cfs/commun/cv21_ABX/raw_dataset/en\" \\\n",
    "    \"/gpfsssd/scratch/rech/ank/ucv88ce/projects/MultilingualCPC/checkpoints/inftrain/EN+FR/800h/00/features/cpc_small/CV_en\" \\\n",
    "    --file_extension wav --gru_level 2"
   ]
  },
  {
   "cell_type": "code",
   "execution_count": null,
   "id": "256446e6",
   "metadata": {},
   "outputs": [],
   "source": [
    "os.makedirs(\"/gpfsssd/scratch/rech/ank/ucv88ce/projects/MultilingualCPC/checkpoints/inftrain/EN+FR/400h/00/cpc_small/features/CV_en\", exist_ok=True) \n",
    "\n",
    "%run /gpfsdswork/projects/rech/ank/ucv88ce/repos/zerospeech2021_baseline/scripts/build_CPC_features.py \\\n",
    "    \"/gpfsssd/scratch/rech/ank/ucv88ce/projects/MultilingualCPC/checkpoints/inftrain/EN+FR/400h/00/cpc_small/checkpoint_25.pt\" \\\n",
    "    \"/gpfsscratch/rech/cfs/commun/cv21_ABX/raw_dataset/fr\" \\\n",
    "    \"/gpfsssd/scratch/rech/ank/ucv88ce/projects/MultilingualCPC/checkpoints/inftrain/EN+FR/400h/00/features/cpc_small/CV_fr\" \\\n",
    "    --file_extension wav --gru_level 2\n",
    "\n",
    "\n",
    "os.makedirs(\"/gpfsssd/scratch/rech/ank/ucv88ce/projects/MultilingualCPC/checkpoints/inftrain/EN+FR/400h/00/cpc_small/features/CV_en\", exist_ok=True) \n",
    "\n",
    "%run /gpfsdswork/projects/rech/ank/ucv88ce/repos/zerospeech2021_baseline/scripts/build_CPC_features.py \\\n",
    "    \"/gpfsssd/scratch/rech/ank/ucv88ce/projects/MultilingualCPC/checkpoints/inftrain/EN+FR/400h/00/cpc_small/checkpoint_25.pt\" \\\n",
    "    \"/gpfsscratch/rech/cfs/commun/cv21_ABX/raw_dataset/en\" \\\n",
    "    \"/gpfsssd/scratch/rech/ank/ucv88ce/projects/MultilingualCPC/checkpoints/inftrain/EN+FR/400h/00/features/cpc_small/CV_en\" \\\n",
    "    --file_extension wav --gru_level 2"
   ]
  },
  {
   "cell_type": "code",
   "execution_count": null,
   "id": "efb93d4d",
   "metadata": {},
   "outputs": [],
   "source": [
    "os.makedirs(\"/gpfsssd/scratch/rech/ank/ucv88ce/projects/MultilingualCPC/checkpoints/inftrain/EN+FR/200h/00/cpc_small/features/CV_en\", exist_ok=True) \n",
    "\n",
    "%run /gpfsdswork/projects/rech/ank/ucv88ce/repos/zerospeech2021_baseline/scripts/build_CPC_features.py \\\n",
    "    \"/gpfsssd/scratch/rech/ank/ucv88ce/projects/MultilingualCPC/checkpoints/inftrain/EN+FR/200h/00/cpc_small/checkpoint_25.pt\" \\\n",
    "    \"/gpfsscratch/rech/cfs/commun/cv21_ABX/raw_dataset/fr\" \\\n",
    "    \"/gpfsssd/scratch/rech/ank/ucv88ce/projects/MultilingualCPC/checkpoints/inftrain/EN+FR/200h/00/features/cpc_small/CV_fr\" \\\n",
    "    --file_extension wav --gru_level 2\n",
    "\n",
    "\n",
    "os.makedirs(\"/gpfsssd/scratch/rech/ank/ucv88ce/projects/MultilingualCPC/checkpoints/inftrain/EN+FR/200h/00/cpc_small/features/CV_en\", exist_ok=True) \n",
    "\n",
    "%run /gpfsdswork/projects/rech/ank/ucv88ce/repos/zerospeech2021_baseline/scripts/build_CPC_features.py \\\n",
    "    \"/gpfsssd/scratch/rech/ank/ucv88ce/projects/MultilingualCPC/checkpoints/inftrain/EN+FR/200h/00/cpc_small/checkpoint_25.pt\" \\\n",
    "    \"/gpfsscratch/rech/cfs/commun/cv21_ABX/raw_dataset/en\" \\\n",
    "    \"/gpfsssd/scratch/rech/ank/ucv88ce/projects/MultilingualCPC/checkpoints/inftrain/EN+FR/200h/00/features/cpc_small/CV_en\" \\\n",
    "    --file_extension wav --gru_level 2"
   ]
  },
  {
   "cell_type": "code",
   "execution_count": null,
   "id": "4402e4d0",
   "metadata": {},
   "outputs": [],
   "source": [
    "os.makedirs(\"/gpfsssd/scratch/rech/ank/ucv88ce/projects/MultilingualCPC/checkpoints/inftrain/EN+FR/100h/00/cpc_small/features/CV_en\", exist_ok=True) \n",
    "\n",
    "%run /gpfsdswork/projects/rech/ank/ucv88ce/repos/zerospeech2021_baseline/scripts/build_CPC_features.py \\\n",
    "    \"/gpfsssd/scratch/rech/ank/ucv88ce/projects/MultilingualCPC/checkpoints/inftrain/EN+FR/100h/00/cpc_small/checkpoint_25.pt\" \\\n",
    "    \"/gpfsscratch/rech/cfs/commun/cv21_ABX/raw_dataset/fr\" \\\n",
    "    \"/gpfsssd/scratch/rech/ank/ucv88ce/projects/MultilingualCPC/checkpoints/inftrain/EN+FR/100h/00/features/cpc_small/CV_fr\" \\\n",
    "    --file_extension wav --gru_level 2\n",
    "\n",
    "\n",
    "os.makedirs(\"/gpfsssd/scratch/rech/ank/ucv88ce/projects/MultilingualCPC/checkpoints/inftrain/EN+FR/100h/00/cpc_small/features/CV_en\", exist_ok=True) \n",
    "\n",
    "%run /gpfsdswork/projects/rech/ank/ucv88ce/repos/zerospeech2021_baseline/scripts/build_CPC_features.py \\\n",
    "    \"/gpfsssd/scratch/rech/ank/ucv88ce/projects/MultilingualCPC/checkpoints/inftrain/EN+FR/100h/00/cpc_small/checkpoint_25.pt\" \\\n",
    "    \"/gpfsscratch/rech/cfs/commun/cv21_ABX/raw_dataset/en\" \\\n",
    "    \"/gpfsssd/scratch/rech/ank/ucv88ce/projects/MultilingualCPC/checkpoints/inftrain/EN+FR/100h/00/features/cpc_small/CV_en\" \\\n",
    "    --file_extension wav --gru_level 2"
   ]
  },
  {
   "cell_type": "code",
   "execution_count": null,
   "id": "7c04b200",
   "metadata": {},
   "outputs": [],
   "source": [
    "os.makedirs(\"/gpfsssd/scratch/rech/ank/ucv88ce/projects/MultilingualCPC/checkpoints/inftrain/EN+FR/50h/00/cpc_small/features/CV_en\", exist_ok=True) \n",
    "\n",
    "%run /gpfsdswork/projects/rech/ank/ucv88ce/repos/zerospeech2021_baseline/scripts/build_CPC_features.py \\\n",
    "    \"/gpfsssd/scratch/rech/ank/ucv88ce/projects/MultilingualCPC/checkpoints/inftrain/EN+FR/50h/00/cpc_small/checkpoint_25.pt\" \\\n",
    "    \"/gpfsscratch/rech/cfs/commun/cv21_ABX/raw_dataset/fr\" \\\n",
    "    \"/gpfsssd/scratch/rech/ank/ucv88ce/projects/MultilingualCPC/checkpoints/inftrain/EN+FR/50h/00/features/cpc_small/CV_fr\" \\\n",
    "    --file_extension wav --gru_level 2\n",
    "\n",
    "\n",
    "os.makedirs(\"/gpfsssd/scratch/rech/ank/ucv88ce/projects/MultilingualCPC/checkpoints/inftrain/EN+FR/50h/00/cpc_small/features/CV_en\", exist_ok=True) \n",
    "\n",
    "%run /gpfsdswork/projects/rech/ank/ucv88ce/repos/zerospeech2021_baseline/scripts/build_CPC_features.py \\\n",
    "    \"/gpfsssd/scratch/rech/ank/ucv88ce/projects/MultilingualCPC/checkpoints/inftrain/EN+FR/50h/00/cpc_small/checkpoint_25.pt\" \\\n",
    "    \"/gpfsscratch/rech/cfs/commun/cv21_ABX/raw_dataset/en\" \\\n",
    "    \"/gpfsssd/scratch/rech/ank/ucv88ce/projects/MultilingualCPC/checkpoints/inftrain/EN+FR/50h/00/features/cpc_small/CV_en\" \\\n",
    "    --file_extension wav --gru_level 2"
   ]
  },
  {
   "cell_type": "code",
   "execution_count": null,
   "id": "cd7562c4",
   "metadata": {},
   "outputs": [],
   "source": []
  },
  {
   "cell_type": "code",
   "execution_count": null,
   "id": "9187891e",
   "metadata": {},
   "outputs": [],
   "source": []
  },
  {
   "cell_type": "code",
   "execution_count": null,
   "id": "651af327",
   "metadata": {},
   "outputs": [],
   "source": []
  }
 ],
 "metadata": {
  "kernelspec": {
   "display_name": "Python 3 (ipykernel)",
   "language": "python",
   "name": "python3"
  },
  "language_info": {
   "codemirror_mode": {
    "name": "ipython",
    "version": 3
   },
   "file_extension": ".py",
   "mimetype": "text/x-python",
   "name": "python",
   "nbconvert_exporter": "python",
   "pygments_lexer": "ipython3",
   "version": "3.8.5"
  }
 },
 "nbformat": 4,
 "nbformat_minor": 5
}
