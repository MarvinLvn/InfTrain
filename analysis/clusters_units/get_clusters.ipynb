{
 "cells": [
  {
   "cell_type": "code",
   "execution_count": 1,
   "id": "f2e31efe",
   "metadata": {},
   "outputs": [
    {
     "name": "stdout",
     "output_type": "stream",
     "text": [
      "['/gpfsdswork/projects/rech/ank/ucv88ce/repos/CPC_torch/cpc/eval', '/gpfsdswork/projects/rech/ank/ucv88ce/repos/CPC_torch', '/gpfsdswork/projects/rech/ank/ucv88ce/projects/MultilingualCPC/analysis/clusters_units', '/gpfswork/rech/ank/ucv88ce/miniconda3/envs/inftrain/lib/python38.zip', '/gpfswork/rech/ank/ucv88ce/miniconda3/envs/inftrain/lib/python3.8', '/gpfswork/rech/ank/ucv88ce/miniconda3/envs/inftrain/lib/python3.8/lib-dynload', '', '/gpfswork/rech/ank/ucv88ce/miniconda3/envs/inftrain/lib/python3.8/site-packages', '/gpfsdswork/projects/rech/ank/ucv88ce/repos/CPC_torch', '/gpfswork/rech/ank/ucv88ce/miniconda3/envs/inftrain/lib/python3.8/site-packages/IPython/extensions', '/gpfs7kw/linkhome/rech/genini01/ucv88ce/.ipython']\n"
     ]
    }
   ],
   "source": [
    "import sys\n",
    "import os \n",
    "\n",
    "sys.path.insert(0, \"/gpfsdswork/projects/rech/ank/ucv88ce/repos/CPC_torch\")\n",
    "sys.path.insert(0, \"/gpfsdswork/projects/rech/ank/ucv88ce/repos/CPC_torch/cpc/eval\")\n",
    "\n",
    "print(sys.path)"
   ]
  },
  {
   "cell_type": "code",
   "execution_count": 2,
   "id": "64c06fee",
   "metadata": {},
   "outputs": [],
   "source": [
    "import glob\n",
    "import pickle\n",
    "from tqdm import tqdm"
   ]
  },
  {
   "cell_type": "code",
   "execution_count": 3,
   "id": "399b9bed",
   "metadata": {},
   "outputs": [
    {
     "name": "stderr",
     "output_type": "stream",
     "text": [
      "/gpfswork/rech/ank/ucv88ce/miniconda3/envs/inftrain/lib/python3.8/site-packages/torchaudio/backend/utils.py:53: UserWarning: \"sox\" backend is being deprecated. The default backend will be changed to \"sox_io\" backend in 0.8.0 and \"sox\" backend will be removed in 0.9.0. Please migrate to \"sox_io\" backend. Please refer to https://github.com/pytorch/audio/issues/903 for the detail.\n",
      "  warnings.warn(\n"
     ]
    }
   ],
   "source": [
    "import pyximport\n",
    "pyximport.install()\n",
    "\n",
    "import json\n",
    "from os.path import exists, splitext, basename\n",
    "from pathlib import Path\n",
    "\n",
    "import torch\n",
    "from cpc.criterion.clustering.clustering import loadClusterModule\n",
    "import cpc.eval.eval_ABX\n",
    "\n",
    "from cpc.eval.eval_ABX_clustering import ClusteringFeatures\n",
    "\n",
    "\n",
    "from cpc.feature_loader import buildFeature, FeatureModule, loadModel\n",
    "import argparse\n"
   ]
  },
  {
   "cell_type": "code",
   "execution_count": 4,
   "id": "75db6c87",
   "metadata": {},
   "outputs": [],
   "source": [
    "#find a way to use jupyter notebook with gpu\n",
    "#srun --ntasks=1 --cpus-per-task=10 --gres=gpu:1 --hint=nomultithread --time=01:00:00 --pty bash "
   ]
  },
  {
   "cell_type": "code",
   "execution_count": null,
   "id": "5cd61567",
   "metadata": {},
   "outputs": [],
   "source": [
    "#FOR FRENCH\n",
    "\n",
    "%run /gpfsdswork/projects/rech/ank/ucv88ce/repos/CPC_torch/cpc/clustering/clustering_quantization.py --file_extension \"wav\"  \\\n",
    "\"../../experiments/checkpoints/inftrain/FR/3200h/00/kmeans100/checkpoint_last.pt\" \\\n",
    "\"/gpfsscratch/rech/cfs/commun/cv21_ABX/raw_dataset/fr\" \\\n",
    "\"../../experiments/eval/inftrain/FR/3200h/00/kmeans100/\""
   ]
  },
  {
   "cell_type": "code",
   "execution_count": null,
   "id": "1dd662e7",
   "metadata": {},
   "outputs": [],
   "source": [
    "#FOR ENGLISH\n",
    "\n",
    "%run /gpfsdswork/projects/rech/ank/ucv88ce/repos/CPC_torch/cpc/clustering/clustering_quantization.py --file_extension \"wav\"  \\\n",
    "\"../../experiments/checkpoints/inftrain/EN/3200h/00/kmeans100/checkpoint_last.pt\" \\\n",
    "\"/gpfsscratch/rech/cfs/commun/cv21_ABX/raw_dataset/en\" \\\n",
    "\"../../experiments/eval/inftrain/EN/3200h/00/kmeans100/\""
   ]
  },
  {
   "cell_type": "code",
   "execution_count": 21,
   "id": "df5c5ff2",
   "metadata": {},
   "outputs": [
    {
     "name": "stdout",
     "output_type": "stream",
     "text": [
      "=============================================================\n",
      "Quantizing data from /gpfsssd/scratch/rech/ank/ucv88ce/data/LibriSpeech/test-clean\n",
      "=============================================================\n",
      "\n",
      "Looking for all wav files in /gpfsssd/scratch/rech/ank/ucv88ce/data/LibriSpeech/test-clean with speakerLevel 1\n",
      "Loaded from cache /gpfsssd/scratch/rech/ank/ucv88ce/data/LibriSpeech/test-clean/_seqs_cache.txt successfully\n",
      "Done! Found 2620 files and 87 speakers!\n",
      "Loading args from ../../experiments/checkpoints/inftrain/EN/3200h/00/kmeans50\n",
      "\n",
      "Clutering args:\n",
      "{\n",
      "    \"DPLambda\": 11,\n",
      "    \"DPMean\": false,\n",
      "    \"MAX_ITER\": 300,\n",
      "    \"batchSizeGPU\": 200,\n",
      "    \"centroidLimits\": null,\n",
      "    \"debug\": false,\n",
      "    \"dimReduction\": null,\n",
      "    \"dirOutput\": \"/gpfsssd/scratch/rech/cfs/commun/InfTrain_models/EN/3200h/00/kmeans50\",\n",
      "    \"encoder_layer\": false,\n",
      "    \"extension\": \"wav\",\n",
      "    \"getDistanceEstimation\": false,\n",
      "    \"level_gru\": 2,\n",
      "    \"load\": null,\n",
      "    \"nClusters\": 50,\n",
      "    \"nGroups\": 1,\n",
      "    \"pathCheckpoint\": \"/gpfsssd/scratch/rech/cfs/commun/InfTrain_models/EN/3200h/00/cpc_small/checkpoint_25.pt\",\n",
      "    \"pathDB\": \"/gpfsssd/scratch/rech/cfs/commun/families/EN/3200h/00\",\n",
      "    \"perIterSize\": 1406,\n",
      "    \"recursionLevel\": 2,\n",
      "    \"save\": true,\n",
      "    \"save_last\": 5,\n",
      "    \"seqList\": null,\n",
      "    \"sizeWindow\": 10240,\n",
      "    \"train_mode\": false\n",
      "}\n",
      "--------------------------------------------------\n",
      "Loading ClusterModule at ../../experiments/checkpoints/inftrain/EN/3200h/00/kmeans50/checkpoint_last.pt\n",
      "\n",
      "Loading CPC FeatureMaker\n",
      "Loading checkpoint /gpfsssd/scratch/rech/cfs/commun/InfTrain_models/EN/3200h/00/cpc_small/checkpoint_25.pt\n",
      "Loading checkpoint /gpfsscratch/rech/cfs/commun/InfTrain_models/EN/3200h/00/cpc_small/checkpoint_20.pt\n",
      "Updating the configuration file with \n",
      "{\n",
      "    \"nLevelsGRU\": 2\n",
      "}\n",
      "Loading the state dict at /gpfsssd/scratch/rech/cfs/commun/InfTrain_models/EN/3200h/00/cpc_small/checkpoint_25.pt\n"
     ]
    },
    {
     "name": "stderr",
     "output_type": "stream",
     "text": [
      "  0% (7 of 2620) |                       | Elapsed Time: 0:00:00 ETA:   0:00:42"
     ]
    },
    {
     "name": "stdout",
     "output_type": "stream",
     "text": [
      "CPC FeatureMaker loaded!\n",
      "\n",
      "Quantizing audio files...\n"
     ]
    },
    {
     "name": "stderr",
     "output_type": "stream",
     "text": [
      "100% (2620 of 2620) |####################| Elapsed Time: 0:01:07 Time:  0:01:07\n"
     ]
    },
    {
     "name": "stdout",
     "output_type": "stream",
     "text": [
      "...done 2620 files in 67.65155124664307 seconds.\n",
      "\n",
      "Saving outputs to ../../experiments/eval/inftrain/EN/3200h/00/kmeans50/LS-CLEAN/quantized_outputs.txt\n"
     ]
    }
   ],
   "source": [
    "#ENGLISH ON LS\n",
    "\n",
    "#FOR ENGLISH \n",
    "\n",
    "%run /gpfsdswork/projects/rech/ank/ucv88ce/repos/CPC_torch/cpc/clustering/clustering_quantization.py --file_extension \"wav\"  \\\n",
    "\"../../experiments/checkpoints/inftrain/EN/3200h/00/kmeans50/checkpoint_last.pt\" \\\n",
    "\"/gpfsssd/scratch/rech/ank/ucv88ce/data/LibriSpeech/test-clean\" \\\n",
    "\"../../experiments/eval/inftrain/EN/3200h/00/kmeans50/LS-CLEAN\"\n"
   ]
  },
  {
   "cell_type": "markdown",
   "id": "d55f97fb",
   "metadata": {},
   "source": [
    "## LINES BELOW WERE BEFORE USING THE QUANTIZATION SCRIPT. NOT USEFUL ANYMORE."
   ]
  },
  {
   "cell_type": "code",
   "execution_count": 5,
   "id": "32e9a716",
   "metadata": {},
   "outputs": [],
   "source": [
    "wav_fr = [x for x in glob.glob(\"/gpfsscratch/rech/cfs/commun/cv21_ABX/raw_dataset/fr/*.wav\")]\n",
    "wav_en = [x for x in glob.glob(\"/gpfsscratch/rech/cfs/commun/cv21_ABX/raw_dataset/en/*.wav\")]"
   ]
  },
  {
   "cell_type": "code",
   "execution_count": 6,
   "id": "16b43da6",
   "metadata": {},
   "outputs": [],
   "source": [
    "def get_units(kmeans_cp, wav_list, output_pkl=None):\n",
    "    audio2units={}\n",
    "    #kmeans_cp=\"/gpfsssd/scratch/rech/cfs/commun/InfTrain_models/EN/50h/00/kmeans50/checkpoint_last.pt\"\n",
    "    FeatureMaker = ClusteringFeatures(\n",
    "                kmeans_cp,\n",
    "                soft_clustering=False,\n",
    "                encoder_layer=False,\n",
    "                keepHidden=True,\n",
    "                group_modes=\"onehot\",\n",
    "                onehot_dict=None,\n",
    "    )\n",
    "    for audio in tqdm(wav_list):\n",
    "        audio_name = os.path.basename(audio)\n",
    "        unit_list=[]\n",
    "        T=FeatureMaker.feature_function(audio)\n",
    "        a_tuple = (T == 1).nonzero(as_tuple=True)\n",
    "        a=a_tuple[2]\n",
    "        for i in range(len(a)):\n",
    "            unit_list.append(a[i].item())\n",
    "        audio2units[audio_name]=unit_list\n",
    "    \n",
    "    if output_pkl:\n",
    "        with open(output_pkl, 'wb') as handle:\n",
    "            pickle.dump(audio2units, handle)\n",
    "    return audio2units\n",
    "\n",
    "        "
   ]
  },
  {
   "cell_type": "code",
   "execution_count": 7,
   "id": "4cb8e354",
   "metadata": {},
   "outputs": [
    {
     "name": "stdout",
     "output_type": "stream",
     "text": [
      "EXP_PATH =  EN/3200h/00/kmeans100\n",
      "EXP_PATH =  FR/3200h/00/kmeans100\n",
      "Loading args from /gpfsssd/scratch/rech/cfs/commun/InfTrain_models/FR/3200h/00/kmeans100/args.json\n",
      "\n",
      "Clutering args:\n",
      "{\n",
      "    \"DPLambda\": 11,\n",
      "    \"DPMean\": false,\n",
      "    \"MAX_ITER\": 300,\n",
      "    \"batchSizeGPU\": 200,\n",
      "    \"centroidLimits\": null,\n",
      "    \"debug\": false,\n",
      "    \"dimReduction\": null,\n",
      "    \"dirOutput\": \"/gpfsssd/scratch/rech/cfs/commun/InfTrain_models/FR/3200h/00/kmeans100\",\n",
      "    \"encoder_layer\": false,\n",
      "    \"extension\": \"wav\",\n",
      "    \"getDistanceEstimation\": false,\n",
      "    \"level_gru\": 2,\n",
      "    \"load\": null,\n",
      "    \"nClusters\": 100,\n",
      "    \"nGroups\": 1,\n",
      "    \"pathCheckpoint\": \"/gpfsssd/scratch/rech/cfs/commun/InfTrain_models/FR/3200h/00/cpc_small/checkpoint_20.pt\",\n",
      "    \"pathDB\": \"/gpfsssd/scratch/rech/cfs/commun/families/FR/3200h/00\",\n",
      "    \"perIterSize\": 1406,\n",
      "    \"recursionLevel\": 2,\n",
      "    \"save\": true,\n",
      "    \"save_last\": 5,\n",
      "    \"seqList\": null,\n",
      "    \"sizeWindow\": 10240,\n",
      "    \"train_mode\": false\n",
      "}\n",
      "--------------------------------------------------\n",
      "Loading checkpoint /gpfsssd/scratch/rech/cfs/commun/InfTrain_models/FR/3200h/00/cpc_small/checkpoint_20.pt\n",
      "Loading checkpoint /gpfsscratch/rech/cfs/commun/InfTrain_models/FR/3200h/00/cpc_small/checkpoint_15.pt\n",
      "Updating the configuration file with \n",
      "{\n",
      "    \"nLevelsGRU\": 2\n",
      "}\n",
      "Loading the state dict at /gpfsssd/scratch/rech/cfs/commun/InfTrain_models/FR/3200h/00/cpc_small/checkpoint_20.pt\n",
      "Checkpoint loaded!\n",
      "\n",
      "Loading ClusterModule at /gpfsssd/scratch/rech/cfs/commun/InfTrain_models/FR/3200h/00/kmeans100/checkpoint_last.pt\n"
     ]
    },
    {
     "ename": "FileNotFoundError",
     "evalue": "[Errno 2] No such file or directory: '/gpfsssd/scratch/rech/cfs/commun/InfTrain_models/FR/3200h/00/kmeans100/checkpoint_last.pt'",
     "output_type": "error",
     "traceback": [
      "\u001b[0;31m---------------------------------------------------------------------------\u001b[0m",
      "\u001b[0;31mFileNotFoundError\u001b[0m                         Traceback (most recent call last)",
      "\u001b[0;32m/tmp/ipykernel_40571/1736444317.py\u001b[0m in \u001b[0;36m<module>\u001b[0;34m\u001b[0m\n\u001b[1;32m     25\u001b[0m \u001b[0;34m\u001b[0m\u001b[0m\n\u001b[1;32m     26\u001b[0m         \u001b[0;32mif\u001b[0m \u001b[0;32mnot\u001b[0m \u001b[0mos\u001b[0m\u001b[0;34m.\u001b[0m\u001b[0mpath\u001b[0m\u001b[0;34m.\u001b[0m\u001b[0mexists\u001b[0m\u001b[0;34m(\u001b[0m\u001b[0moutput_pkl\u001b[0m\u001b[0;34m)\u001b[0m\u001b[0;34m:\u001b[0m\u001b[0;34m\u001b[0m\u001b[0;34m\u001b[0m\u001b[0m\n\u001b[0;32m---> 27\u001b[0;31m             \u001b[0mget_units\u001b[0m\u001b[0;34m(\u001b[0m\u001b[0mkmeans_cp\u001b[0m\u001b[0;34m,\u001b[0m \u001b[0mwav_list\u001b[0m\u001b[0;34m,\u001b[0m \u001b[0moutput_pkl\u001b[0m\u001b[0;34m=\u001b[0m\u001b[0moutput_pkl\u001b[0m\u001b[0;34m)\u001b[0m\u001b[0;34m\u001b[0m\u001b[0;34m\u001b[0m\u001b[0m\n\u001b[0m\u001b[1;32m     28\u001b[0m \u001b[0;34m\u001b[0m\u001b[0m\n\u001b[1;32m     29\u001b[0m \u001b[0;34m\u001b[0m\u001b[0m\n",
      "\u001b[0;32m/tmp/ipykernel_40571/848298429.py\u001b[0m in \u001b[0;36mget_units\u001b[0;34m(kmeans_cp, wav_list, output_pkl)\u001b[0m\n\u001b[1;32m      2\u001b[0m     \u001b[0maudio2units\u001b[0m\u001b[0;34m=\u001b[0m\u001b[0;34m{\u001b[0m\u001b[0;34m}\u001b[0m\u001b[0;34m\u001b[0m\u001b[0;34m\u001b[0m\u001b[0m\n\u001b[1;32m      3\u001b[0m     \u001b[0;31m#kmeans_cp=\"/gpfsssd/scratch/rech/cfs/commun/InfTrain_models/EN/50h/00/kmeans50/checkpoint_last.pt\"\u001b[0m\u001b[0;34m\u001b[0m\u001b[0;34m\u001b[0m\u001b[0;34m\u001b[0m\u001b[0m\n\u001b[0;32m----> 4\u001b[0;31m     FeatureMaker = ClusteringFeatures(\n\u001b[0m\u001b[1;32m      5\u001b[0m                 \u001b[0mkmeans_cp\u001b[0m\u001b[0;34m,\u001b[0m\u001b[0;34m\u001b[0m\u001b[0;34m\u001b[0m\u001b[0m\n\u001b[1;32m      6\u001b[0m                 \u001b[0msoft_clustering\u001b[0m\u001b[0;34m=\u001b[0m\u001b[0;32mFalse\u001b[0m\u001b[0;34m,\u001b[0m\u001b[0;34m\u001b[0m\u001b[0;34m\u001b[0m\u001b[0m\n",
      "\u001b[0;32m/gpfsdswork/projects/rech/ank/ucv88ce/repos/CPC_torch/cpc/eval/eval_ABX_clustering.py\u001b[0m in \u001b[0;36m__init__\u001b[0;34m(self, clustering_path_checkpoint, soft_clustering, encoder_layer, keepHidden, group_modes, onehot_dict)\u001b[0m\n\u001b[1;32m     92\u001b[0m         \u001b[0mn_features\u001b[0m \u001b[0;34m=\u001b[0m \u001b[0mself\u001b[0m\u001b[0;34m.\u001b[0m\u001b[0mfeatureMaker\u001b[0m\u001b[0;34m.\u001b[0m\u001b[0mout_feature_dim\u001b[0m\u001b[0;34m\u001b[0m\u001b[0;34m\u001b[0m\u001b[0m\n\u001b[1;32m     93\u001b[0m         \u001b[0;31m### Load Clustering module\u001b[0m\u001b[0;34m\u001b[0m\u001b[0;34m\u001b[0m\u001b[0;34m\u001b[0m\u001b[0m\n\u001b[0;32m---> 94\u001b[0;31m         \u001b[0mself\u001b[0m\u001b[0;34m.\u001b[0m\u001b[0mclusterModule\u001b[0m \u001b[0;34m=\u001b[0m \u001b[0mloadClusterModule\u001b[0m\u001b[0;34m(\u001b[0m\u001b[0mclustering_path_checkpoint\u001b[0m\u001b[0;34m)\u001b[0m\u001b[0;34m\u001b[0m\u001b[0;34m\u001b[0m\u001b[0m\n\u001b[0m\u001b[1;32m     95\u001b[0m         \u001b[0mprint\u001b[0m\u001b[0;34m(\u001b[0m\u001b[0;34m\"Checkpoint loaded!\"\u001b[0m\u001b[0;34m)\u001b[0m\u001b[0;34m\u001b[0m\u001b[0;34m\u001b[0m\u001b[0m\n\u001b[1;32m     96\u001b[0m         \u001b[0mprint\u001b[0m\u001b[0;34m(\u001b[0m\u001b[0;34m\"\"\u001b[0m\u001b[0;34m)\u001b[0m\u001b[0;34m\u001b[0m\u001b[0;34m\u001b[0m\u001b[0m\n",
      "\u001b[0;32m/gpfsdswork/projects/rech/ank/ucv88ce/repos/CPC_torch/cpc/criterion/clustering/clustering.py\u001b[0m in \u001b[0;36mloadClusterModule\u001b[0;34m(pathCheckpoint)\u001b[0m\n\u001b[1;32m     16\u001b[0m \u001b[0;32mdef\u001b[0m \u001b[0mloadClusterModule\u001b[0m\u001b[0;34m(\u001b[0m\u001b[0mpathCheckpoint\u001b[0m\u001b[0;34m)\u001b[0m\u001b[0;34m:\u001b[0m\u001b[0;34m\u001b[0m\u001b[0;34m\u001b[0m\u001b[0m\n\u001b[1;32m     17\u001b[0m     \u001b[0mprint\u001b[0m\u001b[0;34m(\u001b[0m\u001b[0;34mf\"Loading ClusterModule at {pathCheckpoint}\"\u001b[0m\u001b[0;34m)\u001b[0m\u001b[0;34m\u001b[0m\u001b[0;34m\u001b[0m\u001b[0m\n\u001b[0;32m---> 18\u001b[0;31m     \u001b[0mstate_dict\u001b[0m \u001b[0;34m=\u001b[0m \u001b[0mtorch\u001b[0m\u001b[0;34m.\u001b[0m\u001b[0mload\u001b[0m\u001b[0;34m(\u001b[0m\u001b[0mpathCheckpoint\u001b[0m\u001b[0;34m)\u001b[0m\u001b[0;34m\u001b[0m\u001b[0;34m\u001b[0m\u001b[0m\n\u001b[0m\u001b[1;32m     19\u001b[0m     \u001b[0mclusterModule\u001b[0m \u001b[0;34m=\u001b[0m \u001b[0mkMeanCluster\u001b[0m\u001b[0;34m(\u001b[0m\u001b[0mstate_dict\u001b[0m\u001b[0;34m[\u001b[0m\u001b[0;34m\"state_dict\"\u001b[0m\u001b[0;34m]\u001b[0m\u001b[0;34m[\u001b[0m\u001b[0;34m\"Ck\"\u001b[0m\u001b[0;34m]\u001b[0m\u001b[0;34m)\u001b[0m\u001b[0;34m\u001b[0m\u001b[0;34m\u001b[0m\u001b[0m\n\u001b[1;32m     20\u001b[0m     \u001b[0mclusterModule\u001b[0m \u001b[0;34m=\u001b[0m \u001b[0mclusterModule\u001b[0m\u001b[0;34m.\u001b[0m\u001b[0mcuda\u001b[0m\u001b[0;34m(\u001b[0m\u001b[0;34m)\u001b[0m\u001b[0;34m\u001b[0m\u001b[0;34m\u001b[0m\u001b[0m\n",
      "\u001b[0;32m/gpfswork/rech/ank/ucv88ce/miniconda3/envs/inftrain/lib/python3.8/site-packages/torch/serialization.py\u001b[0m in \u001b[0;36mload\u001b[0;34m(f, map_location, pickle_module, **pickle_load_args)\u001b[0m\n\u001b[1;32m    579\u001b[0m         \u001b[0mpickle_load_args\u001b[0m\u001b[0;34m[\u001b[0m\u001b[0;34m'encoding'\u001b[0m\u001b[0;34m]\u001b[0m \u001b[0;34m=\u001b[0m \u001b[0;34m'utf-8'\u001b[0m\u001b[0;34m\u001b[0m\u001b[0;34m\u001b[0m\u001b[0m\n\u001b[1;32m    580\u001b[0m \u001b[0;34m\u001b[0m\u001b[0m\n\u001b[0;32m--> 581\u001b[0;31m     \u001b[0;32mwith\u001b[0m \u001b[0m_open_file_like\u001b[0m\u001b[0;34m(\u001b[0m\u001b[0mf\u001b[0m\u001b[0;34m,\u001b[0m \u001b[0;34m'rb'\u001b[0m\u001b[0;34m)\u001b[0m \u001b[0;32mas\u001b[0m \u001b[0mopened_file\u001b[0m\u001b[0;34m:\u001b[0m\u001b[0;34m\u001b[0m\u001b[0;34m\u001b[0m\u001b[0m\n\u001b[0m\u001b[1;32m    582\u001b[0m         \u001b[0;32mif\u001b[0m \u001b[0m_is_zipfile\u001b[0m\u001b[0;34m(\u001b[0m\u001b[0mopened_file\u001b[0m\u001b[0;34m)\u001b[0m\u001b[0;34m:\u001b[0m\u001b[0;34m\u001b[0m\u001b[0;34m\u001b[0m\u001b[0m\n\u001b[1;32m    583\u001b[0m             \u001b[0;31m# The zipfile reader is going to advance the current file position.\u001b[0m\u001b[0;34m\u001b[0m\u001b[0;34m\u001b[0m\u001b[0;34m\u001b[0m\u001b[0m\n",
      "\u001b[0;32m/gpfswork/rech/ank/ucv88ce/miniconda3/envs/inftrain/lib/python3.8/site-packages/torch/serialization.py\u001b[0m in \u001b[0;36m_open_file_like\u001b[0;34m(name_or_buffer, mode)\u001b[0m\n\u001b[1;32m    228\u001b[0m \u001b[0;32mdef\u001b[0m \u001b[0m_open_file_like\u001b[0m\u001b[0;34m(\u001b[0m\u001b[0mname_or_buffer\u001b[0m\u001b[0;34m,\u001b[0m \u001b[0mmode\u001b[0m\u001b[0;34m)\u001b[0m\u001b[0;34m:\u001b[0m\u001b[0;34m\u001b[0m\u001b[0;34m\u001b[0m\u001b[0m\n\u001b[1;32m    229\u001b[0m     \u001b[0;32mif\u001b[0m \u001b[0m_is_path\u001b[0m\u001b[0;34m(\u001b[0m\u001b[0mname_or_buffer\u001b[0m\u001b[0;34m)\u001b[0m\u001b[0;34m:\u001b[0m\u001b[0;34m\u001b[0m\u001b[0;34m\u001b[0m\u001b[0m\n\u001b[0;32m--> 230\u001b[0;31m         \u001b[0;32mreturn\u001b[0m \u001b[0m_open_file\u001b[0m\u001b[0;34m(\u001b[0m\u001b[0mname_or_buffer\u001b[0m\u001b[0;34m,\u001b[0m \u001b[0mmode\u001b[0m\u001b[0;34m)\u001b[0m\u001b[0;34m\u001b[0m\u001b[0;34m\u001b[0m\u001b[0m\n\u001b[0m\u001b[1;32m    231\u001b[0m     \u001b[0;32melse\u001b[0m\u001b[0;34m:\u001b[0m\u001b[0;34m\u001b[0m\u001b[0;34m\u001b[0m\u001b[0m\n\u001b[1;32m    232\u001b[0m         \u001b[0;32mif\u001b[0m \u001b[0;34m'w'\u001b[0m \u001b[0;32min\u001b[0m \u001b[0mmode\u001b[0m\u001b[0;34m:\u001b[0m\u001b[0;34m\u001b[0m\u001b[0;34m\u001b[0m\u001b[0m\n",
      "\u001b[0;32m/gpfswork/rech/ank/ucv88ce/miniconda3/envs/inftrain/lib/python3.8/site-packages/torch/serialization.py\u001b[0m in \u001b[0;36m__init__\u001b[0;34m(self, name, mode)\u001b[0m\n\u001b[1;32m    209\u001b[0m \u001b[0;32mclass\u001b[0m \u001b[0m_open_file\u001b[0m\u001b[0;34m(\u001b[0m\u001b[0m_opener\u001b[0m\u001b[0;34m)\u001b[0m\u001b[0;34m:\u001b[0m\u001b[0;34m\u001b[0m\u001b[0;34m\u001b[0m\u001b[0m\n\u001b[1;32m    210\u001b[0m     \u001b[0;32mdef\u001b[0m \u001b[0m__init__\u001b[0m\u001b[0;34m(\u001b[0m\u001b[0mself\u001b[0m\u001b[0;34m,\u001b[0m \u001b[0mname\u001b[0m\u001b[0;34m,\u001b[0m \u001b[0mmode\u001b[0m\u001b[0;34m)\u001b[0m\u001b[0;34m:\u001b[0m\u001b[0;34m\u001b[0m\u001b[0;34m\u001b[0m\u001b[0m\n\u001b[0;32m--> 211\u001b[0;31m         \u001b[0msuper\u001b[0m\u001b[0;34m(\u001b[0m\u001b[0m_open_file\u001b[0m\u001b[0;34m,\u001b[0m \u001b[0mself\u001b[0m\u001b[0;34m)\u001b[0m\u001b[0;34m.\u001b[0m\u001b[0m__init__\u001b[0m\u001b[0;34m(\u001b[0m\u001b[0mopen\u001b[0m\u001b[0;34m(\u001b[0m\u001b[0mname\u001b[0m\u001b[0;34m,\u001b[0m \u001b[0mmode\u001b[0m\u001b[0;34m)\u001b[0m\u001b[0;34m)\u001b[0m\u001b[0;34m\u001b[0m\u001b[0;34m\u001b[0m\u001b[0m\n\u001b[0m\u001b[1;32m    212\u001b[0m \u001b[0;34m\u001b[0m\u001b[0m\n\u001b[1;32m    213\u001b[0m     \u001b[0;32mdef\u001b[0m \u001b[0m__exit__\u001b[0m\u001b[0;34m(\u001b[0m\u001b[0mself\u001b[0m\u001b[0;34m,\u001b[0m \u001b[0;34m*\u001b[0m\u001b[0margs\u001b[0m\u001b[0;34m)\u001b[0m\u001b[0;34m:\u001b[0m\u001b[0;34m\u001b[0m\u001b[0;34m\u001b[0m\u001b[0m\n",
      "\u001b[0;31mFileNotFoundError\u001b[0m: [Errno 2] No such file or directory: '/gpfsssd/scratch/rech/cfs/commun/InfTrain_models/FR/3200h/00/kmeans100/checkpoint_last.pt'"
     ]
    }
   ],
   "source": [
    "#HERE IS CORRECT\n",
    "\n",
    "\n",
    "\n",
    "#exp_list = [x for x in glob.glob(\"/gpfsssd/scratch/rech/cfs/commun/InfTrain_models/*/*/*/kmeans50\")]\n",
    "#exp_list = [x for x in glob.glob(\"/gpfsssd/scratch/rech/cfs/commun/InfTrain_models/EN/*/*/kmeans50\")]\n",
    "exp_list = [x for x in glob.glob(\"/gpfsssd/scratch/rech/cfs/commun/InfTrain_models/*/3200h/*/kmeans100\")]\n",
    "\n",
    "\n",
    "prefix = \"/gpfsssd/scratch/rech/cfs/commun/InfTrain_models/\"\n",
    "for exp  in exp_list:\n",
    "    exp_path = exp[len(prefix):]\n",
    "    print(\"EXP_PATH = \", exp_path)\n",
    "    for lang in [\"en\", \"fr\"]:\n",
    "        if lang == \"fr\":\n",
    "            wav_list = wav_fr\n",
    "        elif lang == \"en\":\n",
    "            wav_list = wav_en\n",
    "        kmeans_cp = os.path.join(\"/gpfsssd/scratch/rech/cfs/commun/InfTrain_models/\", exp_path, \"checkpoint_last.pt\")\n",
    "        output_path=os.path.join(\"/gpfsdswork/projects/rech/ank/ucv88ce/projects/MultilingualCPC/experiments/eval/inftrain\", exp_path)\n",
    "        output_pkl=os.path.join(output_path, lang+\"_units.pkl\")\n",
    "\n",
    "        if not os.path.exists(output_path):\n",
    "            os.makedirs(output_path)\n",
    "\n",
    "        if not os.path.exists(output_pkl):\n",
    "            get_units(kmeans_cp, wav_list, output_pkl=output_pkl)\n",
    "\n",
    "\n"
   ]
  },
  {
   "cell_type": "code",
   "execution_count": null,
   "id": "f1a0192d",
   "metadata": {},
   "outputs": [],
   "source": [
    "#HERE IS CORRECT ( FR)\n",
    "\n",
    "\n",
    "\n",
    "#exp_list = [x for x in glob.glob(\"/gpfsssd/scratch/rech/cfs/commun/InfTrain_models/*/*/*/kmeans50\")]\n",
    "exp_list = [x for x in glob.glob(\"/gpfsssd/scratch/rech/cfs/commun/InfTrain_models/FR/*/*/kmeans50\")]\n",
    "\n",
    "prefix = \"/gpfsssd/scratch/rech/cfs/commun/InfTrain_models/\"\n",
    "for exp  in exp_list:\n",
    "    exp_path = exp[len(prefix):]\n",
    "    print(\"EXP_PATH = \", exp_path)\n",
    "    for lang in [\"en\", \"fr\"]:\n",
    "        if lang == \"fr\":\n",
    "            wav_list = wav_fr\n",
    "        elif lang == \"en\":\n",
    "            wav_list = wav_en\n",
    "        kmeans_cp = os.path.join(\"/gpfsssd/scratch/rech/cfs/commun/InfTrain_models/\", exp_path, \"checkpoint_last.pt\")\n",
    "        output_path=os.path.join(\"/gpfsdswork/projects/rech/ank/ucv88ce/projects/MultilingualCPC/experiments/eval/inftrain\", exp_path)\n",
    "        output_pkl=os.path.join(output_path, lang+\"_units.pkl\")\n",
    "\n",
    "        if not os.path.exists(output_path):\n",
    "            os.makedirs(output_path)\n",
    "\n",
    "        if not os.path.exists(output_pkl):\n",
    "            get_units(kmeans_cp, wav_list, output_pkl=output_pkl)\n",
    "\n",
    "\n"
   ]
  },
  {
   "cell_type": "code",
   "execution_count": 63,
   "id": "cb32d3db",
   "metadata": {},
   "outputs": [],
   "source": [
    "#need to double check. Function that is not thoroughly checked but seems to be working\n",
    "#this should lalow us to get average length\n",
    "\n",
    "#should obviously be done on a lit of file. \n",
    "\n",
    "\n",
    "units={x:[] for x in range(50)}\n",
    "T=FeatureMaker.feature_function(audio_file)\n",
    "a_tuple = (T == 1).nonzero(as_tuple=True)\n",
    "a=a_tuple[2]\n",
    "curr_unit=0\n",
    "for i in range(len(a)):\n",
    "    curr_unit+=1\n",
    "    if i+1 == len(a):#edge case\n",
    "        units[a[i].item()].append(curr_unit)\n",
    "        curr_unit=0\n",
    "    elif a[i+1].item() != a[i].item():\n",
    "        units[a[i].item()].append(curr_unit)\n",
    "        curr_unit=0\n",
    "\n",
    "        "
   ]
  },
  {
   "cell_type": "code",
   "execution_count": null,
   "id": "6cf4041a",
   "metadata": {},
   "outputs": [],
   "source": []
  }
 ],
 "metadata": {
  "kernelspec": {
   "display_name": "Python 3 (ipykernel)",
   "language": "python",
   "name": "python3"
  },
  "language_info": {
   "codemirror_mode": {
    "name": "ipython",
    "version": 3
   },
   "file_extension": ".py",
   "mimetype": "text/x-python",
   "name": "python",
   "nbconvert_exporter": "python",
   "pygments_lexer": "ipython3",
   "version": "3.8.5"
  }
 },
 "nbformat": 4,
 "nbformat_minor": 5
}
