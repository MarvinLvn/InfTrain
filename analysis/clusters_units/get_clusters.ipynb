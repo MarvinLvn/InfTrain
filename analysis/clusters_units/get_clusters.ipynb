{
 "cells": [
  {
   "cell_type": "code",
   "execution_count": 1,
   "id": "f2e31efe",
   "metadata": {},
   "outputs": [
    {
     "name": "stdout",
     "output_type": "stream",
     "text": [
      "['/gpfsdswork/projects/rech/ank/ucv88ce/repos/CPC_torch/cpc/eval', '/gpfsdswork/projects/rech/ank/ucv88ce/repos/CPC_torch', '/gpfsdswork/projects/rech/ank/ucv88ce/projects/MultilingualCPC/analysis', '/gpfswork/rech/ank/ucv88ce/miniconda3/envs/inftrain/lib/python38.zip', '/gpfswork/rech/ank/ucv88ce/miniconda3/envs/inftrain/lib/python3.8', '/gpfswork/rech/ank/ucv88ce/miniconda3/envs/inftrain/lib/python3.8/lib-dynload', '', '/gpfswork/rech/ank/ucv88ce/miniconda3/envs/inftrain/lib/python3.8/site-packages', '/gpfsdswork/projects/rech/ank/ucv88ce/repos/CPC_audio', '/gpfswork/rech/ank/ucv88ce/miniconda3/envs/inftrain/lib/python3.8/site-packages/IPython/extensions', '/gpfs7kw/linkhome/rech/genini01/ucv88ce/.ipython']\n"
     ]
    }
   ],
   "source": [
    "import sys\n",
    "import os \n",
    "\n",
    "sys.path.insert(0, \"/gpfsdswork/projects/rech/ank/ucv88ce/repos/CPC_torch\")\n",
    "sys.path.insert(0, \"/gpfsdswork/projects/rech/ank/ucv88ce/repos/CPC_torch/cpc/eval\")\n",
    "\n",
    "print(sys.path)"
   ]
  },
  {
   "cell_type": "code",
   "execution_count": 2,
   "id": "64c06fee",
   "metadata": {},
   "outputs": [],
   "source": [
    "import glob\n",
    "import pickle\n",
    "from tqdm import tqdm"
   ]
  },
  {
   "cell_type": "code",
   "execution_count": 3,
   "id": "399b9bed",
   "metadata": {},
   "outputs": [
    {
     "name": "stderr",
     "output_type": "stream",
     "text": [
      "/gpfswork/rech/ank/ucv88ce/miniconda3/envs/inftrain/lib/python3.8/site-packages/torchaudio/backend/utils.py:53: UserWarning: \"sox\" backend is being deprecated. The default backend will be changed to \"sox_io\" backend in 0.8.0 and \"sox\" backend will be removed in 0.9.0. Please migrate to \"sox_io\" backend. Please refer to https://github.com/pytorch/audio/issues/903 for the detail.\n",
      "  warnings.warn(\n"
     ]
    }
   ],
   "source": [
    "import pyximport\n",
    "pyximport.install()\n",
    "\n",
    "import json\n",
    "from os.path import exists, splitext, basename\n",
    "from pathlib import Path\n",
    "\n",
    "import torch\n",
    "from cpc.criterion.clustering.clustering import loadClusterModule\n",
    "import cpc.eval.eval_ABX\n",
    "\n",
    "from cpc.eval.eval_ABX_clustering import ClusteringFeatures\n",
    "\n",
    "\n",
    "from cpc.feature_loader import buildFeature, FeatureModule, loadModel\n",
    "import argparse\n"
   ]
  },
  {
   "cell_type": "code",
   "execution_count": 4,
   "id": "75db6c87",
   "metadata": {},
   "outputs": [],
   "source": [
    "#find a way to use jupyter notebook with gpu\n",
    "#srun --ntasks=1 --cpus-per-task=10 --gres=gpu:1 --hint=nomultithread --time=01:00:00 --pty bash "
   ]
  },
  {
   "cell_type": "code",
   "execution_count": 5,
   "id": "32e9a716",
   "metadata": {},
   "outputs": [],
   "source": [
    "wav_fr = [x for x in glob.glob(\"/gpfsscratch/rech/cfs/commun/cv21_ABX/raw_dataset/fr/*.wav\")]\n",
    "wav_en = [x for x in glob.glob(\"/gpfsscratch/rech/cfs/commun/cv21_ABX/raw_dataset/en/*.wav\")]"
   ]
  },
  {
   "cell_type": "code",
   "execution_count": 6,
   "id": "16b43da6",
   "metadata": {},
   "outputs": [],
   "source": [
    "def get_units(kmeans_cp, wav_list, output_pkl=None):\n",
    "    audio2units={}\n",
    "    #kmeans_cp=\"/gpfsssd/scratch/rech/cfs/commun/InfTrain_models/EN/50h/00/kmeans50/checkpoint_last.pt\"\n",
    "    FeatureMaker = ClusteringFeatures(\n",
    "                kmeans_cp,\n",
    "                soft_clustering=False,\n",
    "                encoder_layer=False,\n",
    "                keepHidden=True,\n",
    "                group_modes=\"onehot\",\n",
    "                onehot_dict=None,\n",
    "    )\n",
    "    for audio in tqdm(wav_list):\n",
    "        audio_name = os.path.basename(audio)\n",
    "        unit_list=[]\n",
    "        T=FeatureMaker.feature_function(audio)\n",
    "        a_tuple = (T == 1).nonzero(as_tuple=True)\n",
    "        a=a_tuple[2]\n",
    "        for i in range(len(a)):\n",
    "            unit_list.append(a[i].item())\n",
    "        audio2units[audio_name]=unit_list\n",
    "    \n",
    "    if output_pkl:\n",
    "        with open(output_pkl, 'wb') as handle:\n",
    "            pickle.dump(audio2units, handle)\n",
    "    return audio2units\n",
    "\n",
    "        "
   ]
  },
  {
   "cell_type": "code",
   "execution_count": null,
   "id": "4cb8e354",
   "metadata": {},
   "outputs": [
    {
     "name": "stdout",
     "output_type": "stream",
     "text": [
      "EXP_PATH =  EN/1600h/01/kmeans50\n",
      "EXP_PATH =  EN/1600h/00/kmeans50\n",
      "EXP_PATH =  EN/800h/02/kmeans50\n",
      "EXP_PATH =  EN/800h/01/kmeans50\n",
      "EXP_PATH =  EN/800h/00/kmeans50\n",
      "EXP_PATH =  EN/800h/03/kmeans50\n",
      "EXP_PATH =  EN/400h/02/kmeans50\n",
      "EXP_PATH =  EN/400h/05/kmeans50\n",
      "EXP_PATH =  EN/400h/01/kmeans50\n",
      "EXP_PATH =  EN/400h/04/kmeans50\n",
      "EXP_PATH =  EN/400h/07/kmeans50\n",
      "EXP_PATH =  EN/400h/00/kmeans50\n",
      "EXP_PATH =  EN/400h/03/kmeans50\n",
      "EXP_PATH =  EN/400h/06/kmeans50\n",
      "EXP_PATH =  EN/3200h/00/kmeans50\n",
      "EXP_PATH =  EN/200h/02/kmeans50\n",
      "EXP_PATH =  EN/200h/05/kmeans50\n",
      "EXP_PATH =  EN/200h/08/kmeans50\n",
      "EXP_PATH =  EN/200h/11/kmeans50\n",
      "EXP_PATH =  EN/200h/14/kmeans50\n",
      "EXP_PATH =  EN/200h/01/kmeans50\n",
      "EXP_PATH =  EN/200h/09/kmeans50\n",
      "EXP_PATH =  EN/200h/04/kmeans50\n",
      "EXP_PATH =  EN/200h/07/kmeans50\n",
      "EXP_PATH =  EN/200h/13/kmeans50\n",
      "EXP_PATH =  EN/200h/00/kmeans50\n",
      "EXP_PATH =  EN/200h/03/kmeans50\n",
      "EXP_PATH =  EN/200h/06/kmeans50\n",
      "EXP_PATH =  EN/200h/12/kmeans50\n",
      "EXP_PATH =  EN/200h/15/kmeans50\n",
      "EXP_PATH =  EN/200h/10/kmeans50\n",
      "EXP_PATH =  EN/50h/34/kmeans50\n",
      "EXP_PATH =  EN/50h/37/kmeans50\n",
      "EXP_PATH =  EN/50h/02/kmeans50\n",
      "EXP_PATH =  EN/50h/05/kmeans50\n",
      "EXP_PATH =  EN/50h/53/kmeans50\n",
      "EXP_PATH =  EN/50h/08/kmeans50\n",
      "EXP_PATH =  EN/50h/56/kmeans50\n",
      "EXP_PATH =  EN/50h/51/kmeans50\n",
      "EXP_PATH =  EN/50h/21/kmeans50\n",
      "EXP_PATH =  EN/50h/59/kmeans50\n",
      "EXP_PATH =  EN/50h/24/kmeans50\n",
      "EXP_PATH =  EN/50h/27/kmeans50\n",
      "EXP_PATH =  EN/50h/43/kmeans50\n",
      "EXP_PATH =  EN/50h/46/kmeans50\n",
      "EXP_PATH =  EN/50h/41/kmeans50\n",
      "EXP_PATH =  EN/50h/11/kmeans50\n",
      "EXP_PATH =  EN/50h/49/kmeans50\n",
      "EXP_PATH =  EN/50h/19/kmeans50\n",
      "EXP_PATH =  EN/50h/14/kmeans50\n",
      "EXP_PATH =  EN/50h/17/kmeans50\n",
      "EXP_PATH =  EN/50h/60/kmeans50\n",
      "EXP_PATH =  EN/50h/63/kmeans50\n",
      "EXP_PATH =  EN/50h/33/kmeans50\n",
      "EXP_PATH =  EN/50h/36/kmeans50\n",
      "EXP_PATH =  EN/50h/31/kmeans50\n",
      "EXP_PATH =  EN/50h/01/kmeans50\n",
      "EXP_PATH =  EN/50h/39/kmeans50\n",
      "EXP_PATH =  EN/50h/09/kmeans50\n",
      "EXP_PATH =  EN/50h/04/kmeans50\n",
      "EXP_PATH =  EN/50h/07/kmeans50\n",
      "EXP_PATH =  EN/50h/55/kmeans50\n",
      "EXP_PATH =  EN/50h/50/kmeans50\n",
      "Loading args from /gpfsssd/scratch/rech/cfs/commun/InfTrain_models/EN/50h/50/kmeans50/args.json\n",
      "\n",
      "Clutering args:\n",
      "{\n",
      "    \"DPLambda\": 11,\n",
      "    \"DPMean\": false,\n",
      "    \"MAX_ITER\": 300,\n",
      "    \"batchSizeGPU\": 200,\n",
      "    \"centroidLimits\": null,\n",
      "    \"debug\": false,\n",
      "    \"dimReduction\": null,\n",
      "    \"dirOutput\": \"/gpfsssd/scratch/rech/cfs/commun/InfTrain_models/EN/50h/50/kmeans50\",\n",
      "    \"encoder_layer\": false,\n",
      "    \"extension\": \"wav\",\n",
      "    \"getDistanceEstimation\": false,\n",
      "    \"level_gru\": 2,\n",
      "    \"load\": null,\n",
      "    \"nClusters\": 50,\n",
      "    \"nGroups\": 1,\n",
      "    \"pathCheckpoint\": \"/gpfsssd/scratch/rech/cfs/commun/InfTrain_models/EN/50h/50/cpc_small/checkpoint_190.pt\",\n",
      "    \"pathDB\": \"/gpfsssd/scratch/rech/cfs/commun/families/EN/50h/50\",\n",
      "    \"perIterSize\": 1406,\n",
      "    \"recursionLevel\": 2,\n",
      "    \"save\": true,\n",
      "    \"save_last\": 5,\n",
      "    \"seqList\": null,\n",
      "    \"sizeWindow\": 10240,\n",
      "    \"train_mode\": false\n",
      "}\n",
      "--------------------------------------------------\n",
      "Loading checkpoint /gpfsssd/scratch/rech/cfs/commun/InfTrain_models/EN/50h/50/cpc_small/checkpoint_190.pt\n",
      "Loading checkpoint /gpfsscratch/rech/cfs/commun/InfTrain_models/EN/50h/50/cpc_small/checkpoint_170.pt\n",
      "Updating the configuration file with \n",
      "{\n",
      "    \"nLevelsGRU\": 2\n",
      "}\n",
      "Loading the state dict at /gpfsssd/scratch/rech/cfs/commun/InfTrain_models/EN/50h/50/cpc_small/checkpoint_190.pt\n"
     ]
    },
    {
     "name": "stderr",
     "output_type": "stream",
     "text": [
      "\r",
      "  0%|          | 0/7042 [00:00<?, ?it/s]"
     ]
    },
    {
     "name": "stdout",
     "output_type": "stream",
     "text": [
      "Checkpoint loaded!\n",
      "\n",
      "Loading ClusterModule at /gpfsssd/scratch/rech/cfs/commun/InfTrain_models/EN/50h/50/kmeans50/checkpoint_last.pt\n",
      "Checkpoint loaded!\n",
      "\n"
     ]
    },
    {
     "name": "stderr",
     "output_type": "stream",
     "text": [
      "100%|██████████| 7042/7042 [06:42<00:00, 17.49it/s]\n"
     ]
    },
    {
     "name": "stdout",
     "output_type": "stream",
     "text": [
      "Loading args from /gpfsssd/scratch/rech/cfs/commun/InfTrain_models/EN/50h/50/kmeans50/args.json\n",
      "\n",
      "Clutering args:\n",
      "{\n",
      "    \"DPLambda\": 11,\n",
      "    \"DPMean\": false,\n",
      "    \"MAX_ITER\": 300,\n",
      "    \"batchSizeGPU\": 200,\n",
      "    \"centroidLimits\": null,\n",
      "    \"debug\": false,\n",
      "    \"dimReduction\": null,\n",
      "    \"dirOutput\": \"/gpfsssd/scratch/rech/cfs/commun/InfTrain_models/EN/50h/50/kmeans50\",\n",
      "    \"encoder_layer\": false,\n",
      "    \"extension\": \"wav\",\n",
      "    \"getDistanceEstimation\": false,\n",
      "    \"level_gru\": 2,\n",
      "    \"load\": null,\n",
      "    \"nClusters\": 50,\n",
      "    \"nGroups\": 1,\n",
      "    \"pathCheckpoint\": \"/gpfsssd/scratch/rech/cfs/commun/InfTrain_models/EN/50h/50/cpc_small/checkpoint_190.pt\",\n",
      "    \"pathDB\": \"/gpfsssd/scratch/rech/cfs/commun/families/EN/50h/50\",\n",
      "    \"perIterSize\": 1406,\n",
      "    \"recursionLevel\": 2,\n",
      "    \"save\": true,\n",
      "    \"save_last\": 5,\n",
      "    \"seqList\": null,\n",
      "    \"sizeWindow\": 10240,\n",
      "    \"train_mode\": false\n",
      "}\n",
      "--------------------------------------------------\n",
      "Loading checkpoint /gpfsssd/scratch/rech/cfs/commun/InfTrain_models/EN/50h/50/cpc_small/checkpoint_190.pt\n",
      "Loading checkpoint /gpfsscratch/rech/cfs/commun/InfTrain_models/EN/50h/50/cpc_small/checkpoint_170.pt\n",
      "Updating the configuration file with \n",
      "{\n",
      "    \"nLevelsGRU\": 2\n",
      "}\n",
      "Loading the state dict at /gpfsssd/scratch/rech/cfs/commun/InfTrain_models/EN/50h/50/cpc_small/checkpoint_190.pt\n"
     ]
    },
    {
     "name": "stderr",
     "output_type": "stream",
     "text": [
      "  0%|          | 2/7795 [00:00<08:35, 15.12it/s]"
     ]
    },
    {
     "name": "stdout",
     "output_type": "stream",
     "text": [
      "Checkpoint loaded!\n",
      "\n",
      "Loading ClusterModule at /gpfsssd/scratch/rech/cfs/commun/InfTrain_models/EN/50h/50/kmeans50/checkpoint_last.pt\n",
      "Checkpoint loaded!\n",
      "\n"
     ]
    },
    {
     "name": "stderr",
     "output_type": "stream",
     "text": [
      "100%|██████████| 7795/7795 [07:00<00:00, 18.54it/s]\n"
     ]
    },
    {
     "name": "stdout",
     "output_type": "stream",
     "text": [
      "EXP_PATH =  EN/50h/58/kmeans50\n",
      "Loading args from /gpfsssd/scratch/rech/cfs/commun/InfTrain_models/EN/50h/58/kmeans50/args.json\n",
      "\n",
      "Clutering args:\n",
      "{\n",
      "    \"DPLambda\": 11,\n",
      "    \"DPMean\": false,\n",
      "    \"MAX_ITER\": 300,\n",
      "    \"batchSizeGPU\": 200,\n",
      "    \"centroidLimits\": null,\n",
      "    \"debug\": false,\n",
      "    \"dimReduction\": null,\n",
      "    \"dirOutput\": \"/gpfsssd/scratch/rech/cfs/commun/InfTrain_models/EN/50h/58/kmeans50\",\n",
      "    \"encoder_layer\": false,\n",
      "    \"extension\": \"wav\",\n",
      "    \"getDistanceEstimation\": false,\n",
      "    \"level_gru\": 2,\n",
      "    \"load\": null,\n",
      "    \"nClusters\": 50,\n",
      "    \"nGroups\": 1,\n",
      "    \"pathCheckpoint\": \"/gpfsssd/scratch/rech/cfs/commun/InfTrain_models/EN/50h/58/cpc_small/checkpoint_185.pt\",\n",
      "    \"pathDB\": \"/gpfsssd/scratch/rech/cfs/commun/families/EN/50h/58\",\n",
      "    \"perIterSize\": 1406,\n",
      "    \"recursionLevel\": 2,\n",
      "    \"save\": true,\n",
      "    \"save_last\": 5,\n",
      "    \"seqList\": null,\n",
      "    \"sizeWindow\": 10240,\n",
      "    \"train_mode\": false\n",
      "}\n",
      "--------------------------------------------------\n",
      "Loading checkpoint /gpfsssd/scratch/rech/cfs/commun/InfTrain_models/EN/50h/58/cpc_small/checkpoint_185.pt\n",
      "Loading checkpoint /gpfsscratch/rech/cfs/commun/InfTrain_models/EN/50h/58/cpc_small/checkpoint_165.pt\n",
      "Updating the configuration file with \n",
      "{\n",
      "    \"nLevelsGRU\": 2\n",
      "}\n",
      "Loading the state dict at /gpfsssd/scratch/rech/cfs/commun/InfTrain_models/EN/50h/58/cpc_small/checkpoint_185.pt\n"
     ]
    },
    {
     "name": "stderr",
     "output_type": "stream",
     "text": [
      "  0%|          | 2/7042 [00:00<07:31, 15.58it/s]"
     ]
    },
    {
     "name": "stdout",
     "output_type": "stream",
     "text": [
      "Checkpoint loaded!\n",
      "\n",
      "Loading ClusterModule at /gpfsssd/scratch/rech/cfs/commun/InfTrain_models/EN/50h/58/kmeans50/checkpoint_last.pt\n",
      "Checkpoint loaded!\n",
      "\n"
     ]
    },
    {
     "name": "stderr",
     "output_type": "stream",
     "text": [
      "100%|██████████| 7042/7042 [07:15<00:00, 16.16it/s]\n"
     ]
    },
    {
     "name": "stdout",
     "output_type": "stream",
     "text": [
      "Loading args from /gpfsssd/scratch/rech/cfs/commun/InfTrain_models/EN/50h/58/kmeans50/args.json\n",
      "\n",
      "Clutering args:\n",
      "{\n",
      "    \"DPLambda\": 11,\n",
      "    \"DPMean\": false,\n",
      "    \"MAX_ITER\": 300,\n",
      "    \"batchSizeGPU\": 200,\n",
      "    \"centroidLimits\": null,\n",
      "    \"debug\": false,\n",
      "    \"dimReduction\": null,\n",
      "    \"dirOutput\": \"/gpfsssd/scratch/rech/cfs/commun/InfTrain_models/EN/50h/58/kmeans50\",\n",
      "    \"encoder_layer\": false,\n",
      "    \"extension\": \"wav\",\n",
      "    \"getDistanceEstimation\": false,\n",
      "    \"level_gru\": 2,\n",
      "    \"load\": null,\n",
      "    \"nClusters\": 50,\n",
      "    \"nGroups\": 1,\n",
      "    \"pathCheckpoint\": \"/gpfsssd/scratch/rech/cfs/commun/InfTrain_models/EN/50h/58/cpc_small/checkpoint_185.pt\",\n",
      "    \"pathDB\": \"/gpfsssd/scratch/rech/cfs/commun/families/EN/50h/58\",\n",
      "    \"perIterSize\": 1406,\n",
      "    \"recursionLevel\": 2,\n",
      "    \"save\": true,\n",
      "    \"save_last\": 5,\n",
      "    \"seqList\": null,\n",
      "    \"sizeWindow\": 10240,\n",
      "    \"train_mode\": false\n",
      "}\n",
      "--------------------------------------------------\n",
      "Loading checkpoint /gpfsssd/scratch/rech/cfs/commun/InfTrain_models/EN/50h/58/cpc_small/checkpoint_185.pt\n",
      "Loading checkpoint /gpfsscratch/rech/cfs/commun/InfTrain_models/EN/50h/58/cpc_small/checkpoint_165.pt\n",
      "Updating the configuration file with \n",
      "{\n",
      "    \"nLevelsGRU\": 2\n",
      "}\n",
      "Loading the state dict at /gpfsssd/scratch/rech/cfs/commun/InfTrain_models/EN/50h/58/cpc_small/checkpoint_185.pt\n"
     ]
    },
    {
     "name": "stderr",
     "output_type": "stream",
     "text": [
      "  0%|          | 3/7795 [00:00<04:53, 26.56it/s]"
     ]
    },
    {
     "name": "stdout",
     "output_type": "stream",
     "text": [
      "Checkpoint loaded!\n",
      "\n",
      "Loading ClusterModule at /gpfsssd/scratch/rech/cfs/commun/InfTrain_models/EN/50h/58/kmeans50/checkpoint_last.pt\n",
      "Checkpoint loaded!\n",
      "\n"
     ]
    },
    {
     "name": "stderr",
     "output_type": "stream",
     "text": [
      "100%|██████████| 7795/7795 [07:06<00:00, 18.28it/s]\n"
     ]
    },
    {
     "name": "stdout",
     "output_type": "stream",
     "text": [
      "EXP_PATH =  EN/50h/23/kmeans50\n",
      "Loading args from /gpfsssd/scratch/rech/cfs/commun/InfTrain_models/EN/50h/23/kmeans50/args.json\n",
      "\n",
      "Clutering args:\n",
      "{\n",
      "    \"DPLambda\": 11,\n",
      "    \"DPMean\": false,\n",
      "    \"MAX_ITER\": 300,\n",
      "    \"batchSizeGPU\": 200,\n",
      "    \"centroidLimits\": null,\n",
      "    \"debug\": false,\n",
      "    \"dimReduction\": null,\n",
      "    \"dirOutput\": \"/gpfsssd/scratch/rech/cfs/commun/InfTrain_models/EN/50h/23/kmeans50\",\n",
      "    \"encoder_layer\": false,\n",
      "    \"extension\": \"wav\",\n",
      "    \"getDistanceEstimation\": false,\n",
      "    \"level_gru\": 2,\n",
      "    \"load\": null,\n",
      "    \"nClusters\": 50,\n",
      "    \"nGroups\": 1,\n",
      "    \"pathCheckpoint\": \"/gpfsssd/scratch/rech/cfs/commun/InfTrain_models/EN/50h/23/cpc_small/checkpoint_195.pt\",\n",
      "    \"pathDB\": \"/gpfsssd/scratch/rech/cfs/commun/families/EN/50h/23\",\n",
      "    \"perIterSize\": 1406,\n",
      "    \"recursionLevel\": 2,\n",
      "    \"save\": true,\n",
      "    \"save_last\": 5,\n",
      "    \"seqList\": null,\n",
      "    \"sizeWindow\": 10240,\n",
      "    \"train_mode\": false\n",
      "}\n",
      "--------------------------------------------------\n",
      "Loading checkpoint /gpfsssd/scratch/rech/cfs/commun/InfTrain_models/EN/50h/23/cpc_small/checkpoint_195.pt\n",
      "Loading checkpoint /gpfsscratch/rech/cfs/commun/InfTrain_models/EN/50h/23/cpc_small/checkpoint_170.pt\n",
      "Updating the configuration file with \n",
      "{\n",
      "    \"nLevelsGRU\": 2\n",
      "}\n",
      "Loading the state dict at /gpfsssd/scratch/rech/cfs/commun/InfTrain_models/EN/50h/23/cpc_small/checkpoint_195.pt\n"
     ]
    },
    {
     "name": "stderr",
     "output_type": "stream",
     "text": [
      "  0%|          | 2/7042 [00:00<06:58, 16.84it/s]"
     ]
    },
    {
     "name": "stdout",
     "output_type": "stream",
     "text": [
      "Checkpoint loaded!\n",
      "\n",
      "Loading ClusterModule at /gpfsssd/scratch/rech/cfs/commun/InfTrain_models/EN/50h/23/kmeans50/checkpoint_last.pt\n",
      "Checkpoint loaded!\n",
      "\n"
     ]
    },
    {
     "name": "stderr",
     "output_type": "stream",
     "text": [
      "100%|██████████| 7042/7042 [06:51<00:00, 17.09it/s]\n"
     ]
    },
    {
     "name": "stdout",
     "output_type": "stream",
     "text": [
      "Loading args from /gpfsssd/scratch/rech/cfs/commun/InfTrain_models/EN/50h/23/kmeans50/args.json\n",
      "\n",
      "Clutering args:\n",
      "{\n",
      "    \"DPLambda\": 11,\n",
      "    \"DPMean\": false,\n",
      "    \"MAX_ITER\": 300,\n",
      "    \"batchSizeGPU\": 200,\n",
      "    \"centroidLimits\": null,\n",
      "    \"debug\": false,\n",
      "    \"dimReduction\": null,\n",
      "    \"dirOutput\": \"/gpfsssd/scratch/rech/cfs/commun/InfTrain_models/EN/50h/23/kmeans50\",\n",
      "    \"encoder_layer\": false,\n",
      "    \"extension\": \"wav\",\n",
      "    \"getDistanceEstimation\": false,\n",
      "    \"level_gru\": 2,\n",
      "    \"load\": null,\n",
      "    \"nClusters\": 50,\n",
      "    \"nGroups\": 1,\n",
      "    \"pathCheckpoint\": \"/gpfsssd/scratch/rech/cfs/commun/InfTrain_models/EN/50h/23/cpc_small/checkpoint_195.pt\",\n",
      "    \"pathDB\": \"/gpfsssd/scratch/rech/cfs/commun/families/EN/50h/23\",\n",
      "    \"perIterSize\": 1406,\n",
      "    \"recursionLevel\": 2,\n",
      "    \"save\": true,\n",
      "    \"save_last\": 5,\n",
      "    \"seqList\": null,\n",
      "    \"sizeWindow\": 10240,\n",
      "    \"train_mode\": false\n",
      "}\n",
      "--------------------------------------------------\n",
      "Loading checkpoint /gpfsssd/scratch/rech/cfs/commun/InfTrain_models/EN/50h/23/cpc_small/checkpoint_195.pt\n",
      "Loading checkpoint /gpfsscratch/rech/cfs/commun/InfTrain_models/EN/50h/23/cpc_small/checkpoint_170.pt\n",
      "Updating the configuration file with \n",
      "{\n",
      "    \"nLevelsGRU\": 2\n",
      "}\n",
      "Loading the state dict at /gpfsssd/scratch/rech/cfs/commun/InfTrain_models/EN/50h/23/cpc_small/checkpoint_195.pt\n"
     ]
    },
    {
     "name": "stderr",
     "output_type": "stream",
     "text": [
      "  0%|          | 2/7795 [00:00<07:20, 17.70it/s]"
     ]
    },
    {
     "name": "stdout",
     "output_type": "stream",
     "text": [
      "Checkpoint loaded!\n",
      "\n",
      "Loading ClusterModule at /gpfsssd/scratch/rech/cfs/commun/InfTrain_models/EN/50h/23/kmeans50/checkpoint_last.pt\n",
      "Checkpoint loaded!\n",
      "\n"
     ]
    },
    {
     "name": "stderr",
     "output_type": "stream",
     "text": [
      "100%|██████████| 7795/7795 [07:09<00:00, 18.14it/s]\n"
     ]
    },
    {
     "name": "stdout",
     "output_type": "stream",
     "text": [
      "EXP_PATH =  EN/50h/26/kmeans50\n",
      "Loading args from /gpfsssd/scratch/rech/cfs/commun/InfTrain_models/EN/50h/26/kmeans50/args.json\n",
      "\n",
      "Clutering args:\n",
      "{\n",
      "    \"DPLambda\": 11,\n",
      "    \"DPMean\": false,\n",
      "    \"MAX_ITER\": 300,\n",
      "    \"batchSizeGPU\": 200,\n",
      "    \"centroidLimits\": null,\n",
      "    \"debug\": false,\n",
      "    \"dimReduction\": null,\n",
      "    \"dirOutput\": \"/gpfsssd/scratch/rech/cfs/commun/InfTrain_models/EN/50h/26/kmeans50\",\n",
      "    \"encoder_layer\": false,\n",
      "    \"extension\": \"wav\",\n",
      "    \"getDistanceEstimation\": false,\n",
      "    \"level_gru\": 2,\n",
      "    \"load\": null,\n",
      "    \"nClusters\": 50,\n",
      "    \"nGroups\": 1,\n",
      "    \"pathCheckpoint\": \"/gpfsssd/scratch/rech/cfs/commun/InfTrain_models/EN/50h/26/cpc_small/checkpoint_199.pt\",\n",
      "    \"pathDB\": \"/gpfsssd/scratch/rech/cfs/commun/families/EN/50h/26\",\n",
      "    \"perIterSize\": 1406,\n",
      "    \"recursionLevel\": 2,\n",
      "    \"save\": true,\n",
      "    \"save_last\": 5,\n",
      "    \"seqList\": null,\n",
      "    \"sizeWindow\": 10240,\n",
      "    \"train_mode\": false\n",
      "}\n",
      "--------------------------------------------------\n",
      "Loading checkpoint /gpfsssd/scratch/rech/cfs/commun/InfTrain_models/EN/50h/26/cpc_small/checkpoint_199.pt\n",
      "Loading checkpoint /gpfsscratch/rech/cfs/commun/InfTrain_models/EN/50h/26/cpc_small/checkpoint_199.pt\n",
      "Updating the configuration file with \n",
      "{\n",
      "    \"nLevelsGRU\": 2\n",
      "}\n",
      "Loading the state dict at /gpfsssd/scratch/rech/cfs/commun/InfTrain_models/EN/50h/26/cpc_small/checkpoint_199.pt\n"
     ]
    },
    {
     "name": "stderr",
     "output_type": "stream",
     "text": [
      "  0%|          | 2/7042 [00:00<06:08, 19.12it/s]"
     ]
    },
    {
     "name": "stdout",
     "output_type": "stream",
     "text": [
      "Checkpoint loaded!\n",
      "\n",
      "Loading ClusterModule at /gpfsssd/scratch/rech/cfs/commun/InfTrain_models/EN/50h/26/kmeans50/checkpoint_last.pt\n",
      "Checkpoint loaded!\n",
      "\n"
     ]
    },
    {
     "name": "stderr",
     "output_type": "stream",
     "text": [
      "100%|██████████| 7042/7042 [06:54<00:00, 16.98it/s]\n"
     ]
    },
    {
     "name": "stdout",
     "output_type": "stream",
     "text": [
      "Loading args from /gpfsssd/scratch/rech/cfs/commun/InfTrain_models/EN/50h/26/kmeans50/args.json\n",
      "\n",
      "Clutering args:\n",
      "{\n",
      "    \"DPLambda\": 11,\n",
      "    \"DPMean\": false,\n",
      "    \"MAX_ITER\": 300,\n",
      "    \"batchSizeGPU\": 200,\n",
      "    \"centroidLimits\": null,\n",
      "    \"debug\": false,\n",
      "    \"dimReduction\": null,\n",
      "    \"dirOutput\": \"/gpfsssd/scratch/rech/cfs/commun/InfTrain_models/EN/50h/26/kmeans50\",\n",
      "    \"encoder_layer\": false,\n",
      "    \"extension\": \"wav\",\n",
      "    \"getDistanceEstimation\": false,\n",
      "    \"level_gru\": 2,\n",
      "    \"load\": null,\n",
      "    \"nClusters\": 50,\n",
      "    \"nGroups\": 1,\n",
      "    \"pathCheckpoint\": \"/gpfsssd/scratch/rech/cfs/commun/InfTrain_models/EN/50h/26/cpc_small/checkpoint_199.pt\",\n",
      "    \"pathDB\": \"/gpfsssd/scratch/rech/cfs/commun/families/EN/50h/26\",\n",
      "    \"perIterSize\": 1406,\n",
      "    \"recursionLevel\": 2,\n",
      "    \"save\": true,\n",
      "    \"save_last\": 5,\n",
      "    \"seqList\": null,\n",
      "    \"sizeWindow\": 10240,\n",
      "    \"train_mode\": false\n",
      "}\n",
      "--------------------------------------------------\n",
      "Loading checkpoint /gpfsssd/scratch/rech/cfs/commun/InfTrain_models/EN/50h/26/cpc_small/checkpoint_199.pt\n",
      "Loading checkpoint /gpfsscratch/rech/cfs/commun/InfTrain_models/EN/50h/26/cpc_small/checkpoint_199.pt\n",
      "Updating the configuration file with \n",
      "{\n",
      "    \"nLevelsGRU\": 2\n",
      "}\n",
      "Loading the state dict at /gpfsssd/scratch/rech/cfs/commun/InfTrain_models/EN/50h/26/cpc_small/checkpoint_199.pt\n"
     ]
    },
    {
     "name": "stderr",
     "output_type": "stream",
     "text": [
      "  0%|          | 2/7795 [00:00<07:25, 17.49it/s]"
     ]
    },
    {
     "name": "stdout",
     "output_type": "stream",
     "text": [
      "Checkpoint loaded!\n",
      "\n",
      "Loading ClusterModule at /gpfsssd/scratch/rech/cfs/commun/InfTrain_models/EN/50h/26/kmeans50/checkpoint_last.pt\n",
      "Checkpoint loaded!\n",
      "\n"
     ]
    },
    {
     "name": "stderr",
     "output_type": "stream",
     "text": [
      "100%|██████████| 7795/7795 [07:02<00:00, 18.44it/s]\n"
     ]
    },
    {
     "name": "stdout",
     "output_type": "stream",
     "text": [
      "EXP_PATH =  EN/50h/29/kmeans50\n",
      "Loading args from /gpfsssd/scratch/rech/cfs/commun/InfTrain_models/EN/50h/29/kmeans50/args.json\n",
      "\n",
      "Clutering args:\n",
      "{\n",
      "    \"DPLambda\": 11,\n",
      "    \"DPMean\": false,\n",
      "    \"MAX_ITER\": 300,\n",
      "    \"batchSizeGPU\": 200,\n",
      "    \"centroidLimits\": null,\n",
      "    \"debug\": false,\n",
      "    \"dimReduction\": null,\n",
      "    \"dirOutput\": \"/gpfsssd/scratch/rech/cfs/commun/InfTrain_models/EN/50h/29/kmeans50\",\n",
      "    \"encoder_layer\": false,\n",
      "    \"extension\": \"wav\",\n",
      "    \"getDistanceEstimation\": false,\n",
      "    \"level_gru\": 2,\n",
      "    \"load\": null,\n",
      "    \"nClusters\": 50,\n",
      "    \"nGroups\": 1,\n",
      "    \"pathCheckpoint\": \"/gpfsssd/scratch/rech/cfs/commun/InfTrain_models/EN/50h/29/cpc_small/checkpoint_185.pt\",\n",
      "    \"pathDB\": \"/gpfsssd/scratch/rech/cfs/commun/families/EN/50h/29\",\n",
      "    \"perIterSize\": 1406,\n",
      "    \"recursionLevel\": 2,\n",
      "    \"save\": true,\n",
      "    \"save_last\": 5,\n",
      "    \"seqList\": null,\n",
      "    \"sizeWindow\": 10240,\n",
      "    \"train_mode\": false\n",
      "}\n",
      "--------------------------------------------------\n",
      "Loading checkpoint /gpfsssd/scratch/rech/cfs/commun/InfTrain_models/EN/50h/29/cpc_small/checkpoint_185.pt\n",
      "Loading checkpoint /gpfsscratch/rech/cfs/commun/InfTrain_models/EN/50h/29/cpc_small/checkpoint_150.pt\n",
      "Updating the configuration file with \n",
      "{\n",
      "    \"nLevelsGRU\": 2\n",
      "}\n",
      "Loading the state dict at /gpfsssd/scratch/rech/cfs/commun/InfTrain_models/EN/50h/29/cpc_small/checkpoint_185.pt\n"
     ]
    },
    {
     "name": "stderr",
     "output_type": "stream",
     "text": [
      "  0%|          | 2/7042 [00:00<06:53, 17.01it/s]"
     ]
    },
    {
     "name": "stdout",
     "output_type": "stream",
     "text": [
      "Checkpoint loaded!\n",
      "\n",
      "Loading ClusterModule at /gpfsssd/scratch/rech/cfs/commun/InfTrain_models/EN/50h/29/kmeans50/checkpoint_last.pt\n",
      "Checkpoint loaded!\n",
      "\n"
     ]
    },
    {
     "name": "stderr",
     "output_type": "stream",
     "text": [
      "100%|██████████| 7042/7042 [06:49<00:00, 17.18it/s]\n"
     ]
    },
    {
     "name": "stdout",
     "output_type": "stream",
     "text": [
      "Loading args from /gpfsssd/scratch/rech/cfs/commun/InfTrain_models/EN/50h/29/kmeans50/args.json\n",
      "\n",
      "Clutering args:\n",
      "{\n",
      "    \"DPLambda\": 11,\n",
      "    \"DPMean\": false,\n",
      "    \"MAX_ITER\": 300,\n",
      "    \"batchSizeGPU\": 200,\n",
      "    \"centroidLimits\": null,\n",
      "    \"debug\": false,\n",
      "    \"dimReduction\": null,\n",
      "    \"dirOutput\": \"/gpfsssd/scratch/rech/cfs/commun/InfTrain_models/EN/50h/29/kmeans50\",\n",
      "    \"encoder_layer\": false,\n",
      "    \"extension\": \"wav\",\n",
      "    \"getDistanceEstimation\": false,\n",
      "    \"level_gru\": 2,\n",
      "    \"load\": null,\n",
      "    \"nClusters\": 50,\n",
      "    \"nGroups\": 1,\n",
      "    \"pathCheckpoint\": \"/gpfsssd/scratch/rech/cfs/commun/InfTrain_models/EN/50h/29/cpc_small/checkpoint_185.pt\",\n",
      "    \"pathDB\": \"/gpfsssd/scratch/rech/cfs/commun/families/EN/50h/29\",\n",
      "    \"perIterSize\": 1406,\n",
      "    \"recursionLevel\": 2,\n",
      "    \"save\": true,\n",
      "    \"save_last\": 5,\n",
      "    \"seqList\": null,\n",
      "    \"sizeWindow\": 10240,\n",
      "    \"train_mode\": false\n",
      "}\n",
      "--------------------------------------------------\n",
      "Loading checkpoint /gpfsssd/scratch/rech/cfs/commun/InfTrain_models/EN/50h/29/cpc_small/checkpoint_185.pt\n",
      "Loading checkpoint /gpfsscratch/rech/cfs/commun/InfTrain_models/EN/50h/29/cpc_small/checkpoint_150.pt\n",
      "Updating the configuration file with \n",
      "{\n",
      "    \"nLevelsGRU\": 2\n",
      "}\n",
      "Loading the state dict at /gpfsssd/scratch/rech/cfs/commun/InfTrain_models/EN/50h/29/cpc_small/checkpoint_185.pt\n"
     ]
    },
    {
     "name": "stderr",
     "output_type": "stream",
     "text": [
      "  0%|          | 2/7795 [00:00<07:33, 17.17it/s]"
     ]
    },
    {
     "name": "stdout",
     "output_type": "stream",
     "text": [
      "Checkpoint loaded!\n",
      "\n",
      "Loading ClusterModule at /gpfsssd/scratch/rech/cfs/commun/InfTrain_models/EN/50h/29/kmeans50/checkpoint_last.pt\n",
      "Checkpoint loaded!\n",
      "\n"
     ]
    },
    {
     "name": "stderr",
     "output_type": "stream",
     "text": [
      "100%|██████████| 7795/7795 [07:03<00:00, 18.41it/s]\n"
     ]
    },
    {
     "name": "stdout",
     "output_type": "stream",
     "text": [
      "EXP_PATH =  EN/50h/45/kmeans50\n",
      "Loading args from /gpfsssd/scratch/rech/cfs/commun/InfTrain_models/EN/50h/45/kmeans50/args.json\n",
      "\n",
      "Clutering args:\n",
      "{\n",
      "    \"DPLambda\": 11,\n",
      "    \"DPMean\": false,\n",
      "    \"MAX_ITER\": 300,\n",
      "    \"batchSizeGPU\": 200,\n",
      "    \"centroidLimits\": null,\n",
      "    \"debug\": false,\n",
      "    \"dimReduction\": null,\n",
      "    \"dirOutput\": \"/gpfsssd/scratch/rech/cfs/commun/InfTrain_models/EN/50h/45/kmeans50\",\n",
      "    \"encoder_layer\": false,\n",
      "    \"extension\": \"wav\",\n",
      "    \"getDistanceEstimation\": false,\n",
      "    \"level_gru\": 2,\n",
      "    \"load\": null,\n",
      "    \"nClusters\": 50,\n",
      "    \"nGroups\": 1,\n",
      "    \"pathCheckpoint\": \"/gpfsssd/scratch/rech/cfs/commun/InfTrain_models/EN/50h/45/cpc_small/checkpoint_160.pt\",\n",
      "    \"pathDB\": \"/gpfsssd/scratch/rech/cfs/commun/families/EN/50h/45\",\n",
      "    \"perIterSize\": 1406,\n",
      "    \"recursionLevel\": 2,\n",
      "    \"save\": true,\n",
      "    \"save_last\": 5,\n",
      "    \"seqList\": null,\n",
      "    \"sizeWindow\": 10240,\n",
      "    \"train_mode\": false\n",
      "}\n",
      "--------------------------------------------------\n",
      "Loading checkpoint /gpfsssd/scratch/rech/cfs/commun/InfTrain_models/EN/50h/45/cpc_small/checkpoint_160.pt\n",
      "Updating the configuration file with \n",
      "{\n",
      "    \"nLevelsGRU\": 2\n",
      "}\n",
      "Loading the state dict at /gpfsssd/scratch/rech/cfs/commun/InfTrain_models/EN/50h/45/cpc_small/checkpoint_160.pt\n"
     ]
    },
    {
     "name": "stderr",
     "output_type": "stream",
     "text": [
      "  0%|          | 2/7042 [00:00<07:05, 16.55it/s]"
     ]
    },
    {
     "name": "stdout",
     "output_type": "stream",
     "text": [
      "Checkpoint loaded!\n",
      "\n",
      "Loading ClusterModule at /gpfsssd/scratch/rech/cfs/commun/InfTrain_models/EN/50h/45/kmeans50/checkpoint_last.pt\n",
      "Checkpoint loaded!\n",
      "\n"
     ]
    },
    {
     "name": "stderr",
     "output_type": "stream",
     "text": [
      "100%|██████████| 7042/7042 [06:49<00:00, 17.19it/s]\n"
     ]
    },
    {
     "name": "stdout",
     "output_type": "stream",
     "text": [
      "Loading args from /gpfsssd/scratch/rech/cfs/commun/InfTrain_models/EN/50h/45/kmeans50/args.json\n",
      "\n",
      "Clutering args:\n",
      "{\n",
      "    \"DPLambda\": 11,\n",
      "    \"DPMean\": false,\n",
      "    \"MAX_ITER\": 300,\n",
      "    \"batchSizeGPU\": 200,\n",
      "    \"centroidLimits\": null,\n",
      "    \"debug\": false,\n",
      "    \"dimReduction\": null,\n",
      "    \"dirOutput\": \"/gpfsssd/scratch/rech/cfs/commun/InfTrain_models/EN/50h/45/kmeans50\",\n",
      "    \"encoder_layer\": false,\n",
      "    \"extension\": \"wav\",\n",
      "    \"getDistanceEstimation\": false,\n",
      "    \"level_gru\": 2,\n",
      "    \"load\": null,\n",
      "    \"nClusters\": 50,\n",
      "    \"nGroups\": 1,\n",
      "    \"pathCheckpoint\": \"/gpfsssd/scratch/rech/cfs/commun/InfTrain_models/EN/50h/45/cpc_small/checkpoint_160.pt\",\n",
      "    \"pathDB\": \"/gpfsssd/scratch/rech/cfs/commun/families/EN/50h/45\",\n",
      "    \"perIterSize\": 1406,\n",
      "    \"recursionLevel\": 2,\n",
      "    \"save\": true,\n",
      "    \"save_last\": 5,\n",
      "    \"seqList\": null,\n",
      "    \"sizeWindow\": 10240,\n",
      "    \"train_mode\": false\n",
      "}\n",
      "--------------------------------------------------\n",
      "Loading checkpoint /gpfsssd/scratch/rech/cfs/commun/InfTrain_models/EN/50h/45/cpc_small/checkpoint_160.pt\n",
      "Updating the configuration file with \n",
      "{\n",
      "    \"nLevelsGRU\": 2\n",
      "}\n",
      "Loading the state dict at /gpfsssd/scratch/rech/cfs/commun/InfTrain_models/EN/50h/45/cpc_small/checkpoint_160.pt\n"
     ]
    },
    {
     "name": "stderr",
     "output_type": "stream",
     "text": [
      "  0%|          | 2/7795 [00:00<08:48, 14.74it/s]"
     ]
    },
    {
     "name": "stdout",
     "output_type": "stream",
     "text": [
      "Checkpoint loaded!\n",
      "\n",
      "Loading ClusterModule at /gpfsssd/scratch/rech/cfs/commun/InfTrain_models/EN/50h/45/kmeans50/checkpoint_last.pt\n",
      "Checkpoint loaded!\n",
      "\n"
     ]
    },
    {
     "name": "stderr",
     "output_type": "stream",
     "text": [
      "100%|██████████| 7795/7795 [07:04<00:00, 18.37it/s]\n"
     ]
    },
    {
     "name": "stdout",
     "output_type": "stream",
     "text": [
      "EXP_PATH =  EN/50h/40/kmeans50\n",
      "Loading args from /gpfsssd/scratch/rech/cfs/commun/InfTrain_models/EN/50h/40/kmeans50/args.json\n",
      "\n",
      "Clutering args:\n",
      "{\n",
      "    \"DPLambda\": 11,\n",
      "    \"DPMean\": false,\n",
      "    \"MAX_ITER\": 300,\n",
      "    \"batchSizeGPU\": 200,\n",
      "    \"centroidLimits\": null,\n",
      "    \"debug\": false,\n",
      "    \"dimReduction\": null,\n",
      "    \"dirOutput\": \"/gpfsssd/scratch/rech/cfs/commun/InfTrain_models/EN/50h/40/kmeans50\",\n",
      "    \"encoder_layer\": false,\n",
      "    \"extension\": \"wav\",\n",
      "    \"getDistanceEstimation\": false,\n",
      "    \"level_gru\": 2,\n",
      "    \"load\": null,\n",
      "    \"nClusters\": 50,\n",
      "    \"nGroups\": 1,\n",
      "    \"pathCheckpoint\": \"/gpfsssd/scratch/rech/cfs/commun/InfTrain_models/EN/50h/40/cpc_small/checkpoint_180.pt\",\n",
      "    \"pathDB\": \"/gpfsssd/scratch/rech/cfs/commun/families/EN/50h/40\",\n",
      "    \"perIterSize\": 1406,\n",
      "    \"recursionLevel\": 2,\n",
      "    \"save\": true,\n",
      "    \"save_last\": 5,\n",
      "    \"seqList\": null,\n",
      "    \"sizeWindow\": 10240,\n",
      "    \"train_mode\": false\n",
      "}\n",
      "--------------------------------------------------\n",
      "Loading checkpoint /gpfsssd/scratch/rech/cfs/commun/InfTrain_models/EN/50h/40/cpc_small/checkpoint_180.pt\n",
      "Loading checkpoint /gpfsscratch/rech/cfs/commun/InfTrain_models/EN/50h/40/cpc_small/checkpoint_165.pt\n",
      "Updating the configuration file with \n",
      "{\n",
      "    \"nLevelsGRU\": 2\n",
      "}\n",
      "Loading the state dict at /gpfsssd/scratch/rech/cfs/commun/InfTrain_models/EN/50h/40/cpc_small/checkpoint_180.pt\n"
     ]
    },
    {
     "name": "stderr",
     "output_type": "stream",
     "text": [
      "  0%|          | 2/7042 [00:00<07:27, 15.74it/s]"
     ]
    },
    {
     "name": "stdout",
     "output_type": "stream",
     "text": [
      "Checkpoint loaded!\n",
      "\n",
      "Loading ClusterModule at /gpfsssd/scratch/rech/cfs/commun/InfTrain_models/EN/50h/40/kmeans50/checkpoint_last.pt\n",
      "Checkpoint loaded!\n",
      "\n"
     ]
    },
    {
     "name": "stderr",
     "output_type": "stream",
     "text": [
      "100%|██████████| 7042/7042 [06:55<00:00, 16.95it/s]\n"
     ]
    },
    {
     "name": "stdout",
     "output_type": "stream",
     "text": [
      "Loading args from /gpfsssd/scratch/rech/cfs/commun/InfTrain_models/EN/50h/40/kmeans50/args.json\n",
      "\n",
      "Clutering args:\n",
      "{\n",
      "    \"DPLambda\": 11,\n",
      "    \"DPMean\": false,\n",
      "    \"MAX_ITER\": 300,\n",
      "    \"batchSizeGPU\": 200,\n",
      "    \"centroidLimits\": null,\n",
      "    \"debug\": false,\n",
      "    \"dimReduction\": null,\n",
      "    \"dirOutput\": \"/gpfsssd/scratch/rech/cfs/commun/InfTrain_models/EN/50h/40/kmeans50\",\n",
      "    \"encoder_layer\": false,\n",
      "    \"extension\": \"wav\",\n",
      "    \"getDistanceEstimation\": false,\n",
      "    \"level_gru\": 2,\n",
      "    \"load\": null,\n",
      "    \"nClusters\": 50,\n",
      "    \"nGroups\": 1,\n",
      "    \"pathCheckpoint\": \"/gpfsssd/scratch/rech/cfs/commun/InfTrain_models/EN/50h/40/cpc_small/checkpoint_180.pt\",\n",
      "    \"pathDB\": \"/gpfsssd/scratch/rech/cfs/commun/families/EN/50h/40\",\n",
      "    \"perIterSize\": 1406,\n",
      "    \"recursionLevel\": 2,\n",
      "    \"save\": true,\n",
      "    \"save_last\": 5,\n",
      "    \"seqList\": null,\n",
      "    \"sizeWindow\": 10240,\n",
      "    \"train_mode\": false\n",
      "}\n",
      "--------------------------------------------------\n",
      "Loading checkpoint /gpfsssd/scratch/rech/cfs/commun/InfTrain_models/EN/50h/40/cpc_small/checkpoint_180.pt\n",
      "Loading checkpoint /gpfsscratch/rech/cfs/commun/InfTrain_models/EN/50h/40/cpc_small/checkpoint_165.pt\n",
      "Updating the configuration file with \n",
      "{\n",
      "    \"nLevelsGRU\": 2\n",
      "}\n",
      "Loading the state dict at /gpfsssd/scratch/rech/cfs/commun/InfTrain_models/EN/50h/40/cpc_small/checkpoint_180.pt\n"
     ]
    },
    {
     "name": "stderr",
     "output_type": "stream",
     "text": [
      "  0%|          | 2/7795 [00:00<06:40, 19.45it/s]"
     ]
    },
    {
     "name": "stdout",
     "output_type": "stream",
     "text": [
      "Checkpoint loaded!\n",
      "\n",
      "Loading ClusterModule at /gpfsssd/scratch/rech/cfs/commun/InfTrain_models/EN/50h/40/kmeans50/checkpoint_last.pt\n",
      "Checkpoint loaded!\n",
      "\n"
     ]
    },
    {
     "name": "stderr",
     "output_type": "stream",
     "text": [
      "100%|██████████| 7795/7795 [07:18<00:00, 17.77it/s]\n"
     ]
    },
    {
     "name": "stdout",
     "output_type": "stream",
     "text": [
      "EXP_PATH =  EN/50h/48/kmeans50\n",
      "Loading args from /gpfsssd/scratch/rech/cfs/commun/InfTrain_models/EN/50h/48/kmeans50/args.json\n",
      "\n",
      "Clutering args:\n",
      "{\n",
      "    \"DPLambda\": 11,\n",
      "    \"DPMean\": false,\n",
      "    \"MAX_ITER\": 300,\n",
      "    \"batchSizeGPU\": 200,\n",
      "    \"centroidLimits\": null,\n",
      "    \"debug\": false,\n",
      "    \"dimReduction\": null,\n",
      "    \"dirOutput\": \"/gpfsssd/scratch/rech/cfs/commun/InfTrain_models/EN/50h/48/kmeans50\",\n",
      "    \"encoder_layer\": false,\n",
      "    \"extension\": \"wav\",\n",
      "    \"getDistanceEstimation\": false,\n",
      "    \"level_gru\": 2,\n",
      "    \"load\": null,\n",
      "    \"nClusters\": 50,\n",
      "    \"nGroups\": 1,\n",
      "    \"pathCheckpoint\": \"/gpfsssd/scratch/rech/cfs/commun/InfTrain_models/EN/50h/48/cpc_small/checkpoint_190.pt\",\n",
      "    \"pathDB\": \"/gpfsssd/scratch/rech/cfs/commun/families/EN/50h/48\",\n",
      "    \"perIterSize\": 1406,\n",
      "    \"recursionLevel\": 2,\n",
      "    \"save\": true,\n",
      "    \"save_last\": 5,\n",
      "    \"seqList\": null,\n",
      "    \"sizeWindow\": 10240,\n",
      "    \"train_mode\": false\n",
      "}\n",
      "--------------------------------------------------\n",
      "Loading checkpoint /gpfsssd/scratch/rech/cfs/commun/InfTrain_models/EN/50h/48/cpc_small/checkpoint_190.pt\n",
      "Updating the configuration file with \n",
      "{\n",
      "    \"nLevelsGRU\": 2\n",
      "}\n",
      "Loading the state dict at /gpfsssd/scratch/rech/cfs/commun/InfTrain_models/EN/50h/48/cpc_small/checkpoint_190.pt\n"
     ]
    },
    {
     "name": "stderr",
     "output_type": "stream",
     "text": [
      "  0%|          | 2/7042 [00:00<07:54, 14.82it/s]"
     ]
    },
    {
     "name": "stdout",
     "output_type": "stream",
     "text": [
      "Checkpoint loaded!\n",
      "\n",
      "Loading ClusterModule at /gpfsssd/scratch/rech/cfs/commun/InfTrain_models/EN/50h/48/kmeans50/checkpoint_last.pt\n",
      "Checkpoint loaded!\n",
      "\n"
     ]
    },
    {
     "name": "stderr",
     "output_type": "stream",
     "text": [
      "100%|██████████| 7042/7042 [07:03<00:00, 16.63it/s]\n"
     ]
    },
    {
     "name": "stdout",
     "output_type": "stream",
     "text": [
      "Loading args from /gpfsssd/scratch/rech/cfs/commun/InfTrain_models/EN/50h/48/kmeans50/args.json\n",
      "\n",
      "Clutering args:\n",
      "{\n",
      "    \"DPLambda\": 11,\n",
      "    \"DPMean\": false,\n",
      "    \"MAX_ITER\": 300,\n",
      "    \"batchSizeGPU\": 200,\n",
      "    \"centroidLimits\": null,\n",
      "    \"debug\": false,\n",
      "    \"dimReduction\": null,\n",
      "    \"dirOutput\": \"/gpfsssd/scratch/rech/cfs/commun/InfTrain_models/EN/50h/48/kmeans50\",\n",
      "    \"encoder_layer\": false,\n",
      "    \"extension\": \"wav\",\n",
      "    \"getDistanceEstimation\": false,\n",
      "    \"level_gru\": 2,\n",
      "    \"load\": null,\n",
      "    \"nClusters\": 50,\n",
      "    \"nGroups\": 1,\n",
      "    \"pathCheckpoint\": \"/gpfsssd/scratch/rech/cfs/commun/InfTrain_models/EN/50h/48/cpc_small/checkpoint_190.pt\",\n",
      "    \"pathDB\": \"/gpfsssd/scratch/rech/cfs/commun/families/EN/50h/48\",\n",
      "    \"perIterSize\": 1406,\n",
      "    \"recursionLevel\": 2,\n",
      "    \"save\": true,\n",
      "    \"save_last\": 5,\n",
      "    \"seqList\": null,\n",
      "    \"sizeWindow\": 10240,\n",
      "    \"train_mode\": false\n",
      "}\n",
      "--------------------------------------------------\n",
      "Loading checkpoint /gpfsssd/scratch/rech/cfs/commun/InfTrain_models/EN/50h/48/cpc_small/checkpoint_190.pt\n",
      "Updating the configuration file with \n",
      "{\n",
      "    \"nLevelsGRU\": 2\n",
      "}\n",
      "Loading the state dict at /gpfsssd/scratch/rech/cfs/commun/InfTrain_models/EN/50h/48/cpc_small/checkpoint_190.pt\n"
     ]
    },
    {
     "name": "stderr",
     "output_type": "stream",
     "text": [
      "  0%|          | 2/7795 [00:00<07:10, 18.10it/s]"
     ]
    },
    {
     "name": "stdout",
     "output_type": "stream",
     "text": [
      "Checkpoint loaded!\n",
      "\n",
      "Loading ClusterModule at /gpfsssd/scratch/rech/cfs/commun/InfTrain_models/EN/50h/48/kmeans50/checkpoint_last.pt\n",
      "Checkpoint loaded!\n",
      "\n"
     ]
    },
    {
     "name": "stderr",
     "output_type": "stream",
     "text": [
      "100%|██████████| 7795/7795 [07:06<00:00, 18.27it/s]\n"
     ]
    },
    {
     "name": "stdout",
     "output_type": "stream",
     "text": [
      "EXP_PATH =  EN/50h/13/kmeans50\n",
      "Loading args from /gpfsssd/scratch/rech/cfs/commun/InfTrain_models/EN/50h/13/kmeans50/args.json\n",
      "\n",
      "Clutering args:\n",
      "{\n",
      "    \"DPLambda\": 11,\n",
      "    \"DPMean\": false,\n",
      "    \"MAX_ITER\": 300,\n",
      "    \"batchSizeGPU\": 200,\n",
      "    \"centroidLimits\": null,\n",
      "    \"debug\": false,\n",
      "    \"dimReduction\": null,\n",
      "    \"dirOutput\": \"/gpfsssd/scratch/rech/cfs/commun/InfTrain_models/EN/50h/13/kmeans50\",\n",
      "    \"encoder_layer\": false,\n",
      "    \"extension\": \"wav\",\n",
      "    \"getDistanceEstimation\": false,\n",
      "    \"level_gru\": 2,\n",
      "    \"load\": null,\n",
      "    \"nClusters\": 50,\n",
      "    \"nGroups\": 1,\n",
      "    \"pathCheckpoint\": \"/gpfsssd/scratch/rech/cfs/commun/InfTrain_models/EN/50h/13/cpc_small/checkpoint_185.pt\",\n",
      "    \"pathDB\": \"/gpfsssd/scratch/rech/cfs/commun/families/EN/50h/13\",\n",
      "    \"perIterSize\": 1406,\n",
      "    \"recursionLevel\": 2,\n",
      "    \"save\": true,\n",
      "    \"save_last\": 5,\n",
      "    \"seqList\": null,\n",
      "    \"sizeWindow\": 10240,\n",
      "    \"train_mode\": false\n",
      "}\n",
      "--------------------------------------------------\n",
      "Loading checkpoint /gpfsssd/scratch/rech/cfs/commun/InfTrain_models/EN/50h/13/cpc_small/checkpoint_185.pt\n",
      "Loading checkpoint /gpfsscratch/rech/cfs/commun/InfTrain_models/EN/50h/13/cpc_small/checkpoint_155.pt\n",
      "Updating the configuration file with \n",
      "{\n",
      "    \"nLevelsGRU\": 2\n",
      "}\n",
      "Loading the state dict at /gpfsssd/scratch/rech/cfs/commun/InfTrain_models/EN/50h/13/cpc_small/checkpoint_185.pt\n"
     ]
    },
    {
     "name": "stderr",
     "output_type": "stream",
     "text": [
      "  0%|          | 3/7042 [00:00<05:26, 21.54it/s]"
     ]
    },
    {
     "name": "stdout",
     "output_type": "stream",
     "text": [
      "Checkpoint loaded!\n",
      "\n",
      "Loading ClusterModule at /gpfsssd/scratch/rech/cfs/commun/InfTrain_models/EN/50h/13/kmeans50/checkpoint_last.pt\n",
      "Checkpoint loaded!\n",
      "\n"
     ]
    },
    {
     "name": "stderr",
     "output_type": "stream",
     "text": [
      "100%|██████████| 7042/7042 [06:58<00:00, 16.84it/s]\n"
     ]
    },
    {
     "name": "stdout",
     "output_type": "stream",
     "text": [
      "Loading args from /gpfsssd/scratch/rech/cfs/commun/InfTrain_models/EN/50h/13/kmeans50/args.json\n",
      "\n",
      "Clutering args:\n",
      "{\n",
      "    \"DPLambda\": 11,\n",
      "    \"DPMean\": false,\n",
      "    \"MAX_ITER\": 300,\n",
      "    \"batchSizeGPU\": 200,\n",
      "    \"centroidLimits\": null,\n",
      "    \"debug\": false,\n",
      "    \"dimReduction\": null,\n",
      "    \"dirOutput\": \"/gpfsssd/scratch/rech/cfs/commun/InfTrain_models/EN/50h/13/kmeans50\",\n",
      "    \"encoder_layer\": false,\n",
      "    \"extension\": \"wav\",\n",
      "    \"getDistanceEstimation\": false,\n",
      "    \"level_gru\": 2,\n",
      "    \"load\": null,\n",
      "    \"nClusters\": 50,\n",
      "    \"nGroups\": 1,\n",
      "    \"pathCheckpoint\": \"/gpfsssd/scratch/rech/cfs/commun/InfTrain_models/EN/50h/13/cpc_small/checkpoint_185.pt\",\n",
      "    \"pathDB\": \"/gpfsssd/scratch/rech/cfs/commun/families/EN/50h/13\",\n",
      "    \"perIterSize\": 1406,\n",
      "    \"recursionLevel\": 2,\n",
      "    \"save\": true,\n",
      "    \"save_last\": 5,\n",
      "    \"seqList\": null,\n",
      "    \"sizeWindow\": 10240,\n",
      "    \"train_mode\": false\n",
      "}\n",
      "--------------------------------------------------\n",
      "Loading checkpoint /gpfsssd/scratch/rech/cfs/commun/InfTrain_models/EN/50h/13/cpc_small/checkpoint_185.pt\n",
      "Loading checkpoint /gpfsscratch/rech/cfs/commun/InfTrain_models/EN/50h/13/cpc_small/checkpoint_155.pt\n",
      "Updating the configuration file with \n",
      "{\n",
      "    \"nLevelsGRU\": 2\n",
      "}\n",
      "Loading the state dict at /gpfsssd/scratch/rech/cfs/commun/InfTrain_models/EN/50h/13/cpc_small/checkpoint_185.pt\n"
     ]
    },
    {
     "name": "stderr",
     "output_type": "stream",
     "text": [
      "  0%|          | 2/7795 [00:00<08:31, 15.24it/s]"
     ]
    },
    {
     "name": "stdout",
     "output_type": "stream",
     "text": [
      "Checkpoint loaded!\n",
      "\n",
      "Loading ClusterModule at /gpfsssd/scratch/rech/cfs/commun/InfTrain_models/EN/50h/13/kmeans50/checkpoint_last.pt\n",
      "Checkpoint loaded!\n",
      "\n"
     ]
    },
    {
     "name": "stderr",
     "output_type": "stream",
     "text": [
      "100%|██████████| 7795/7795 [07:02<00:00, 18.47it/s]\n"
     ]
    },
    {
     "name": "stdout",
     "output_type": "stream",
     "text": [
      "EXP_PATH =  EN/50h/16/kmeans50\n",
      "Loading args from /gpfsssd/scratch/rech/cfs/commun/InfTrain_models/EN/50h/16/kmeans50/args.json\n",
      "\n",
      "Clutering args:\n",
      "{\n",
      "    \"DPLambda\": 11,\n",
      "    \"DPMean\": false,\n",
      "    \"MAX_ITER\": 300,\n",
      "    \"batchSizeGPU\": 200,\n",
      "    \"centroidLimits\": null,\n",
      "    \"debug\": false,\n",
      "    \"dimReduction\": null,\n",
      "    \"dirOutput\": \"/gpfsssd/scratch/rech/cfs/commun/InfTrain_models/EN/50h/16/kmeans50\",\n",
      "    \"encoder_layer\": false,\n",
      "    \"extension\": \"wav\",\n",
      "    \"getDistanceEstimation\": false,\n",
      "    \"level_gru\": 2,\n",
      "    \"load\": null,\n",
      "    \"nClusters\": 50,\n",
      "    \"nGroups\": 1,\n",
      "    \"pathCheckpoint\": \"/gpfsssd/scratch/rech/cfs/commun/InfTrain_models/EN/50h/16/cpc_small/checkpoint_190.pt\",\n",
      "    \"pathDB\": \"/gpfsssd/scratch/rech/cfs/commun/families/EN/50h/16\",\n",
      "    \"perIterSize\": 1406,\n",
      "    \"recursionLevel\": 2,\n",
      "    \"save\": true,\n",
      "    \"save_last\": 5,\n",
      "    \"seqList\": null,\n",
      "    \"sizeWindow\": 10240,\n",
      "    \"train_mode\": false\n",
      "}\n",
      "--------------------------------------------------\n",
      "Loading checkpoint /gpfsssd/scratch/rech/cfs/commun/InfTrain_models/EN/50h/16/cpc_small/checkpoint_190.pt\n",
      "Loading checkpoint /gpfsscratch/rech/cfs/commun/InfTrain_models/EN/50h/16/cpc_small/checkpoint_180.pt\n",
      "Updating the configuration file with \n",
      "{\n",
      "    \"nLevelsGRU\": 2\n",
      "}\n",
      "Loading the state dict at /gpfsssd/scratch/rech/cfs/commun/InfTrain_models/EN/50h/16/cpc_small/checkpoint_190.pt\n"
     ]
    },
    {
     "name": "stderr",
     "output_type": "stream",
     "text": [
      "  0%|          | 2/7042 [00:00<06:08, 19.08it/s]"
     ]
    },
    {
     "name": "stdout",
     "output_type": "stream",
     "text": [
      "Checkpoint loaded!\n",
      "\n",
      "Loading ClusterModule at /gpfsssd/scratch/rech/cfs/commun/InfTrain_models/EN/50h/16/kmeans50/checkpoint_last.pt\n",
      "Checkpoint loaded!\n",
      "\n"
     ]
    },
    {
     "name": "stderr",
     "output_type": "stream",
     "text": [
      "100%|██████████| 7042/7042 [06:59<00:00, 16.78it/s]\n"
     ]
    },
    {
     "name": "stdout",
     "output_type": "stream",
     "text": [
      "Loading args from /gpfsssd/scratch/rech/cfs/commun/InfTrain_models/EN/50h/16/kmeans50/args.json\n",
      "\n",
      "Clutering args:\n",
      "{\n",
      "    \"DPLambda\": 11,\n",
      "    \"DPMean\": false,\n",
      "    \"MAX_ITER\": 300,\n",
      "    \"batchSizeGPU\": 200,\n",
      "    \"centroidLimits\": null,\n",
      "    \"debug\": false,\n",
      "    \"dimReduction\": null,\n",
      "    \"dirOutput\": \"/gpfsssd/scratch/rech/cfs/commun/InfTrain_models/EN/50h/16/kmeans50\",\n",
      "    \"encoder_layer\": false,\n",
      "    \"extension\": \"wav\",\n",
      "    \"getDistanceEstimation\": false,\n",
      "    \"level_gru\": 2,\n",
      "    \"load\": null,\n",
      "    \"nClusters\": 50,\n",
      "    \"nGroups\": 1,\n",
      "    \"pathCheckpoint\": \"/gpfsssd/scratch/rech/cfs/commun/InfTrain_models/EN/50h/16/cpc_small/checkpoint_190.pt\",\n",
      "    \"pathDB\": \"/gpfsssd/scratch/rech/cfs/commun/families/EN/50h/16\",\n",
      "    \"perIterSize\": 1406,\n",
      "    \"recursionLevel\": 2,\n",
      "    \"save\": true,\n",
      "    \"save_last\": 5,\n",
      "    \"seqList\": null,\n",
      "    \"sizeWindow\": 10240,\n",
      "    \"train_mode\": false\n",
      "}\n",
      "--------------------------------------------------\n",
      "Loading checkpoint /gpfsssd/scratch/rech/cfs/commun/InfTrain_models/EN/50h/16/cpc_small/checkpoint_190.pt\n",
      "Loading checkpoint /gpfsscratch/rech/cfs/commun/InfTrain_models/EN/50h/16/cpc_small/checkpoint_180.pt\n",
      "Updating the configuration file with \n",
      "{\n",
      "    \"nLevelsGRU\": 2\n",
      "}\n",
      "Loading the state dict at /gpfsssd/scratch/rech/cfs/commun/InfTrain_models/EN/50h/16/cpc_small/checkpoint_190.pt\n"
     ]
    },
    {
     "name": "stderr",
     "output_type": "stream",
     "text": [
      "  0%|          | 2/7795 [00:00<08:14, 15.76it/s]"
     ]
    },
    {
     "name": "stdout",
     "output_type": "stream",
     "text": [
      "Checkpoint loaded!\n",
      "\n",
      "Loading ClusterModule at /gpfsssd/scratch/rech/cfs/commun/InfTrain_models/EN/50h/16/kmeans50/checkpoint_last.pt\n",
      "Checkpoint loaded!\n",
      "\n"
     ]
    },
    {
     "name": "stderr",
     "output_type": "stream",
     "text": [
      "100%|██████████| 7795/7795 [07:28<00:00, 17.37it/s]\n"
     ]
    },
    {
     "name": "stdout",
     "output_type": "stream",
     "text": [
      "EXP_PATH =  EN/50h/62/kmeans50\n",
      "Loading args from /gpfsssd/scratch/rech/cfs/commun/InfTrain_models/EN/50h/62/kmeans50/args.json\n",
      "\n",
      "Clutering args:\n",
      "{\n",
      "    \"DPLambda\": 11,\n",
      "    \"DPMean\": false,\n",
      "    \"MAX_ITER\": 300,\n",
      "    \"batchSizeGPU\": 200,\n",
      "    \"centroidLimits\": null,\n",
      "    \"debug\": false,\n",
      "    \"dimReduction\": null,\n",
      "    \"dirOutput\": \"/gpfsssd/scratch/rech/cfs/commun/InfTrain_models/EN/50h/62/kmeans50\",\n",
      "    \"encoder_layer\": false,\n",
      "    \"extension\": \"wav\",\n",
      "    \"getDistanceEstimation\": false,\n",
      "    \"level_gru\": 2,\n",
      "    \"load\": null,\n",
      "    \"nClusters\": 50,\n",
      "    \"nGroups\": 1,\n",
      "    \"pathCheckpoint\": \"/gpfsssd/scratch/rech/cfs/commun/InfTrain_models/EN/50h/62/cpc_small/checkpoint_190.pt\",\n",
      "    \"pathDB\": \"/gpfsssd/scratch/rech/cfs/commun/families/EN/50h/62\",\n",
      "    \"perIterSize\": 1406,\n",
      "    \"recursionLevel\": 2,\n",
      "    \"save\": true,\n",
      "    \"save_last\": 5,\n",
      "    \"seqList\": null,\n",
      "    \"sizeWindow\": 10240,\n",
      "    \"train_mode\": false\n",
      "}\n",
      "--------------------------------------------------\n",
      "Loading checkpoint /gpfsssd/scratch/rech/cfs/commun/InfTrain_models/EN/50h/62/cpc_small/checkpoint_190.pt\n",
      "Loading checkpoint /gpfsscratch/rech/cfs/commun/InfTrain_models/EN/50h/62/cpc_small/checkpoint_160.pt\n",
      "Updating the configuration file with \n",
      "{\n",
      "    \"nLevelsGRU\": 2\n",
      "}\n",
      "Loading the state dict at /gpfsssd/scratch/rech/cfs/commun/InfTrain_models/EN/50h/62/cpc_small/checkpoint_190.pt\n"
     ]
    },
    {
     "name": "stderr",
     "output_type": "stream",
     "text": [
      "  0%|          | 2/7042 [00:00<07:18, 16.07it/s]"
     ]
    },
    {
     "name": "stdout",
     "output_type": "stream",
     "text": [
      "Checkpoint loaded!\n",
      "\n",
      "Loading ClusterModule at /gpfsssd/scratch/rech/cfs/commun/InfTrain_models/EN/50h/62/kmeans50/checkpoint_last.pt\n",
      "Checkpoint loaded!\n",
      "\n"
     ]
    },
    {
     "name": "stderr",
     "output_type": "stream",
     "text": [
      "100%|██████████| 7042/7042 [06:53<00:00, 17.04it/s]\n"
     ]
    },
    {
     "name": "stdout",
     "output_type": "stream",
     "text": [
      "Loading args from /gpfsssd/scratch/rech/cfs/commun/InfTrain_models/EN/50h/62/kmeans50/args.json\n",
      "\n",
      "Clutering args:\n",
      "{\n",
      "    \"DPLambda\": 11,\n",
      "    \"DPMean\": false,\n",
      "    \"MAX_ITER\": 300,\n",
      "    \"batchSizeGPU\": 200,\n",
      "    \"centroidLimits\": null,\n",
      "    \"debug\": false,\n",
      "    \"dimReduction\": null,\n",
      "    \"dirOutput\": \"/gpfsssd/scratch/rech/cfs/commun/InfTrain_models/EN/50h/62/kmeans50\",\n",
      "    \"encoder_layer\": false,\n",
      "    \"extension\": \"wav\",\n",
      "    \"getDistanceEstimation\": false,\n",
      "    \"level_gru\": 2,\n",
      "    \"load\": null,\n",
      "    \"nClusters\": 50,\n",
      "    \"nGroups\": 1,\n",
      "    \"pathCheckpoint\": \"/gpfsssd/scratch/rech/cfs/commun/InfTrain_models/EN/50h/62/cpc_small/checkpoint_190.pt\",\n",
      "    \"pathDB\": \"/gpfsssd/scratch/rech/cfs/commun/families/EN/50h/62\",\n",
      "    \"perIterSize\": 1406,\n",
      "    \"recursionLevel\": 2,\n",
      "    \"save\": true,\n",
      "    \"save_last\": 5,\n",
      "    \"seqList\": null,\n",
      "    \"sizeWindow\": 10240,\n",
      "    \"train_mode\": false\n",
      "}\n",
      "--------------------------------------------------\n",
      "Loading checkpoint /gpfsssd/scratch/rech/cfs/commun/InfTrain_models/EN/50h/62/cpc_small/checkpoint_190.pt\n",
      "Loading checkpoint /gpfsscratch/rech/cfs/commun/InfTrain_models/EN/50h/62/cpc_small/checkpoint_160.pt\n",
      "Updating the configuration file with \n",
      "{\n",
      "    \"nLevelsGRU\": 2\n",
      "}\n",
      "Loading the state dict at /gpfsssd/scratch/rech/cfs/commun/InfTrain_models/EN/50h/62/cpc_small/checkpoint_190.pt\n"
     ]
    },
    {
     "name": "stderr",
     "output_type": "stream",
     "text": [
      "  0%|          | 2/7795 [00:00<06:52, 18.87it/s]"
     ]
    },
    {
     "name": "stdout",
     "output_type": "stream",
     "text": [
      "Checkpoint loaded!\n",
      "\n",
      "Loading ClusterModule at /gpfsssd/scratch/rech/cfs/commun/InfTrain_models/EN/50h/62/kmeans50/checkpoint_last.pt\n",
      "Checkpoint loaded!\n",
      "\n"
     ]
    },
    {
     "name": "stderr",
     "output_type": "stream",
     "text": [
      "100%|██████████| 7795/7795 [07:04<00:00, 18.36it/s]\n"
     ]
    },
    {
     "name": "stdout",
     "output_type": "stream",
     "text": [
      "EXP_PATH =  EN/50h/32/kmeans50\n",
      "Loading args from /gpfsssd/scratch/rech/cfs/commun/InfTrain_models/EN/50h/32/kmeans50/args.json\n",
      "\n",
      "Clutering args:\n",
      "{\n",
      "    \"DPLambda\": 11,\n",
      "    \"DPMean\": false,\n",
      "    \"MAX_ITER\": 300,\n",
      "    \"batchSizeGPU\": 200,\n",
      "    \"centroidLimits\": null,\n",
      "    \"debug\": false,\n",
      "    \"dimReduction\": null,\n",
      "    \"dirOutput\": \"/gpfsssd/scratch/rech/cfs/commun/InfTrain_models/EN/50h/32/kmeans50\",\n",
      "    \"encoder_layer\": false,\n",
      "    \"extension\": \"wav\",\n",
      "    \"getDistanceEstimation\": false,\n",
      "    \"level_gru\": 2,\n",
      "    \"load\": null,\n",
      "    \"nClusters\": 50,\n",
      "    \"nGroups\": 1,\n",
      "    \"pathCheckpoint\": \"/gpfsssd/scratch/rech/cfs/commun/InfTrain_models/EN/50h/32/cpc_small/checkpoint_190.pt\",\n",
      "    \"pathDB\": \"/gpfsssd/scratch/rech/cfs/commun/families/EN/50h/32\",\n",
      "    \"perIterSize\": 1406,\n",
      "    \"recursionLevel\": 2,\n",
      "    \"save\": true,\n",
      "    \"save_last\": 5,\n",
      "    \"seqList\": null,\n",
      "    \"sizeWindow\": 10240,\n",
      "    \"train_mode\": false\n",
      "}\n",
      "--------------------------------------------------\n",
      "Loading checkpoint /gpfsssd/scratch/rech/cfs/commun/InfTrain_models/EN/50h/32/cpc_small/checkpoint_190.pt\n",
      "Loading checkpoint /gpfsscratch/rech/cfs/commun/InfTrain_models/EN/50h/32/cpc_small/checkpoint_160.pt\n",
      "Updating the configuration file with \n",
      "{\n",
      "    \"nLevelsGRU\": 2\n",
      "}\n",
      "Loading the state dict at /gpfsssd/scratch/rech/cfs/commun/InfTrain_models/EN/50h/32/cpc_small/checkpoint_190.pt\n"
     ]
    },
    {
     "name": "stderr",
     "output_type": "stream",
     "text": [
      "  0%|          | 2/7042 [00:00<06:44, 17.40it/s]"
     ]
    },
    {
     "name": "stdout",
     "output_type": "stream",
     "text": [
      "Checkpoint loaded!\n",
      "\n",
      "Loading ClusterModule at /gpfsssd/scratch/rech/cfs/commun/InfTrain_models/EN/50h/32/kmeans50/checkpoint_last.pt\n",
      "Checkpoint loaded!\n",
      "\n"
     ]
    },
    {
     "name": "stderr",
     "output_type": "stream",
     "text": [
      "100%|██████████| 7042/7042 [06:56<00:00, 16.91it/s]\n"
     ]
    },
    {
     "name": "stdout",
     "output_type": "stream",
     "text": [
      "Loading args from /gpfsssd/scratch/rech/cfs/commun/InfTrain_models/EN/50h/32/kmeans50/args.json\n",
      "\n",
      "Clutering args:\n",
      "{\n",
      "    \"DPLambda\": 11,\n",
      "    \"DPMean\": false,\n",
      "    \"MAX_ITER\": 300,\n",
      "    \"batchSizeGPU\": 200,\n",
      "    \"centroidLimits\": null,\n",
      "    \"debug\": false,\n",
      "    \"dimReduction\": null,\n",
      "    \"dirOutput\": \"/gpfsssd/scratch/rech/cfs/commun/InfTrain_models/EN/50h/32/kmeans50\",\n",
      "    \"encoder_layer\": false,\n",
      "    \"extension\": \"wav\",\n",
      "    \"getDistanceEstimation\": false,\n",
      "    \"level_gru\": 2,\n",
      "    \"load\": null,\n",
      "    \"nClusters\": 50,\n",
      "    \"nGroups\": 1,\n",
      "    \"pathCheckpoint\": \"/gpfsssd/scratch/rech/cfs/commun/InfTrain_models/EN/50h/32/cpc_small/checkpoint_190.pt\",\n",
      "    \"pathDB\": \"/gpfsssd/scratch/rech/cfs/commun/families/EN/50h/32\",\n",
      "    \"perIterSize\": 1406,\n",
      "    \"recursionLevel\": 2,\n",
      "    \"save\": true,\n",
      "    \"save_last\": 5,\n",
      "    \"seqList\": null,\n",
      "    \"sizeWindow\": 10240,\n",
      "    \"train_mode\": false\n",
      "}\n",
      "--------------------------------------------------\n",
      "Loading checkpoint /gpfsssd/scratch/rech/cfs/commun/InfTrain_models/EN/50h/32/cpc_small/checkpoint_190.pt\n",
      "Loading checkpoint /gpfsscratch/rech/cfs/commun/InfTrain_models/EN/50h/32/cpc_small/checkpoint_160.pt\n",
      "Updating the configuration file with \n",
      "{\n",
      "    \"nLevelsGRU\": 2\n",
      "}\n",
      "Loading the state dict at /gpfsssd/scratch/rech/cfs/commun/InfTrain_models/EN/50h/32/cpc_small/checkpoint_190.pt\n"
     ]
    },
    {
     "name": "stderr",
     "output_type": "stream",
     "text": [
      "  0%|          | 2/7795 [00:00<07:24, 17.53it/s]"
     ]
    },
    {
     "name": "stdout",
     "output_type": "stream",
     "text": [
      "Checkpoint loaded!\n",
      "\n",
      "Loading ClusterModule at /gpfsssd/scratch/rech/cfs/commun/InfTrain_models/EN/50h/32/kmeans50/checkpoint_last.pt\n",
      "Checkpoint loaded!\n",
      "\n"
     ]
    },
    {
     "name": "stderr",
     "output_type": "stream",
     "text": [
      "100%|██████████| 7795/7795 [07:06<00:00, 18.29it/s]\n"
     ]
    },
    {
     "name": "stdout",
     "output_type": "stream",
     "text": [
      "EXP_PATH =  EN/50h/35/kmeans50\n",
      "Loading args from /gpfsssd/scratch/rech/cfs/commun/InfTrain_models/EN/50h/35/kmeans50/args.json\n",
      "\n",
      "Clutering args:\n",
      "{\n",
      "    \"DPLambda\": 11,\n",
      "    \"DPMean\": false,\n",
      "    \"MAX_ITER\": 300,\n",
      "    \"batchSizeGPU\": 200,\n",
      "    \"centroidLimits\": null,\n",
      "    \"debug\": false,\n",
      "    \"dimReduction\": null,\n",
      "    \"dirOutput\": \"/gpfsssd/scratch/rech/cfs/commun/InfTrain_models/EN/50h/35/kmeans50\",\n",
      "    \"encoder_layer\": false,\n",
      "    \"extension\": \"wav\",\n",
      "    \"getDistanceEstimation\": false,\n",
      "    \"level_gru\": 2,\n",
      "    \"load\": null,\n",
      "    \"nClusters\": 50,\n",
      "    \"nGroups\": 1,\n",
      "    \"pathCheckpoint\": \"/gpfsssd/scratch/rech/cfs/commun/InfTrain_models/EN/50h/35/cpc_small/checkpoint_190.pt\",\n",
      "    \"pathDB\": \"/gpfsssd/scratch/rech/cfs/commun/families/EN/50h/35\",\n",
      "    \"perIterSize\": 1406,\n",
      "    \"recursionLevel\": 2,\n",
      "    \"save\": true,\n",
      "    \"save_last\": 5,\n",
      "    \"seqList\": null,\n",
      "    \"sizeWindow\": 10240,\n",
      "    \"train_mode\": false\n",
      "}\n",
      "--------------------------------------------------\n",
      "Loading checkpoint /gpfsssd/scratch/rech/cfs/commun/InfTrain_models/EN/50h/35/cpc_small/checkpoint_190.pt\n",
      "Loading checkpoint /gpfsscratch/rech/cfs/commun/InfTrain_models/EN/50h/35/cpc_small/checkpoint_160.pt\n",
      "Updating the configuration file with \n",
      "{\n",
      "    \"nLevelsGRU\": 2\n",
      "}\n",
      "Loading the state dict at /gpfsssd/scratch/rech/cfs/commun/InfTrain_models/EN/50h/35/cpc_small/checkpoint_190.pt\n"
     ]
    },
    {
     "name": "stderr",
     "output_type": "stream",
     "text": [
      "  0%|          | 3/7042 [00:00<06:28, 18.12it/s]"
     ]
    },
    {
     "name": "stdout",
     "output_type": "stream",
     "text": [
      "Checkpoint loaded!\n",
      "\n",
      "Loading ClusterModule at /gpfsssd/scratch/rech/cfs/commun/InfTrain_models/EN/50h/35/kmeans50/checkpoint_last.pt\n",
      "Checkpoint loaded!\n",
      "\n"
     ]
    },
    {
     "name": "stderr",
     "output_type": "stream",
     "text": [
      "100%|██████████| 7042/7042 [06:55<00:00, 16.96it/s]\n"
     ]
    },
    {
     "name": "stdout",
     "output_type": "stream",
     "text": [
      "Loading args from /gpfsssd/scratch/rech/cfs/commun/InfTrain_models/EN/50h/35/kmeans50/args.json\n",
      "\n",
      "Clutering args:\n",
      "{\n",
      "    \"DPLambda\": 11,\n",
      "    \"DPMean\": false,\n",
      "    \"MAX_ITER\": 300,\n",
      "    \"batchSizeGPU\": 200,\n",
      "    \"centroidLimits\": null,\n",
      "    \"debug\": false,\n",
      "    \"dimReduction\": null,\n",
      "    \"dirOutput\": \"/gpfsssd/scratch/rech/cfs/commun/InfTrain_models/EN/50h/35/kmeans50\",\n",
      "    \"encoder_layer\": false,\n",
      "    \"extension\": \"wav\",\n",
      "    \"getDistanceEstimation\": false,\n",
      "    \"level_gru\": 2,\n",
      "    \"load\": null,\n",
      "    \"nClusters\": 50,\n",
      "    \"nGroups\": 1,\n",
      "    \"pathCheckpoint\": \"/gpfsssd/scratch/rech/cfs/commun/InfTrain_models/EN/50h/35/cpc_small/checkpoint_190.pt\",\n",
      "    \"pathDB\": \"/gpfsssd/scratch/rech/cfs/commun/families/EN/50h/35\",\n",
      "    \"perIterSize\": 1406,\n",
      "    \"recursionLevel\": 2,\n",
      "    \"save\": true,\n",
      "    \"save_last\": 5,\n",
      "    \"seqList\": null,\n",
      "    \"sizeWindow\": 10240,\n",
      "    \"train_mode\": false\n",
      "}\n",
      "--------------------------------------------------\n",
      "Loading checkpoint /gpfsssd/scratch/rech/cfs/commun/InfTrain_models/EN/50h/35/cpc_small/checkpoint_190.pt\n",
      "Loading checkpoint /gpfsscratch/rech/cfs/commun/InfTrain_models/EN/50h/35/cpc_small/checkpoint_160.pt\n",
      "Updating the configuration file with \n",
      "{\n",
      "    \"nLevelsGRU\": 2\n",
      "}\n",
      "Loading the state dict at /gpfsssd/scratch/rech/cfs/commun/InfTrain_models/EN/50h/35/cpc_small/checkpoint_190.pt\n"
     ]
    },
    {
     "name": "stderr",
     "output_type": "stream",
     "text": [
      "  0%|          | 2/7795 [00:00<08:13, 15.79it/s]"
     ]
    },
    {
     "name": "stdout",
     "output_type": "stream",
     "text": [
      "Checkpoint loaded!\n",
      "\n",
      "Loading ClusterModule at /gpfsssd/scratch/rech/cfs/commun/InfTrain_models/EN/50h/35/kmeans50/checkpoint_last.pt\n",
      "Checkpoint loaded!\n",
      "\n"
     ]
    },
    {
     "name": "stderr",
     "output_type": "stream",
     "text": [
      "100%|██████████| 7795/7795 [07:16<00:00, 17.85it/s]\n"
     ]
    },
    {
     "name": "stdout",
     "output_type": "stream",
     "text": [
      "EXP_PATH =  EN/50h/30/kmeans50\n",
      "Loading args from /gpfsssd/scratch/rech/cfs/commun/InfTrain_models/EN/50h/30/kmeans50/args.json\n",
      "\n",
      "Clutering args:\n",
      "{\n",
      "    \"DPLambda\": 11,\n",
      "    \"DPMean\": false,\n",
      "    \"MAX_ITER\": 300,\n",
      "    \"batchSizeGPU\": 200,\n",
      "    \"centroidLimits\": null,\n",
      "    \"debug\": false,\n",
      "    \"dimReduction\": null,\n",
      "    \"dirOutput\": \"/gpfsssd/scratch/rech/cfs/commun/InfTrain_models/EN/50h/30/kmeans50\",\n",
      "    \"encoder_layer\": false,\n",
      "    \"extension\": \"wav\",\n",
      "    \"getDistanceEstimation\": false,\n",
      "    \"level_gru\": 2,\n",
      "    \"load\": null,\n",
      "    \"nClusters\": 50,\n",
      "    \"nGroups\": 1,\n",
      "    \"pathCheckpoint\": \"/gpfsssd/scratch/rech/cfs/commun/InfTrain_models/EN/50h/30/cpc_small/checkpoint_175.pt\",\n",
      "    \"pathDB\": \"/gpfsssd/scratch/rech/cfs/commun/families/EN/50h/30\",\n",
      "    \"perIterSize\": 1406,\n",
      "    \"recursionLevel\": 2,\n",
      "    \"save\": true,\n",
      "    \"save_last\": 5,\n",
      "    \"seqList\": null,\n",
      "    \"sizeWindow\": 10240,\n",
      "    \"train_mode\": false\n",
      "}\n",
      "--------------------------------------------------\n",
      "Loading checkpoint /gpfsssd/scratch/rech/cfs/commun/InfTrain_models/EN/50h/30/cpc_small/checkpoint_175.pt\n",
      "Loading checkpoint /gpfsscratch/rech/cfs/commun/InfTrain_models/EN/50h/30/cpc_small/checkpoint_145.pt\n",
      "Updating the configuration file with \n",
      "{\n",
      "    \"nLevelsGRU\": 2\n",
      "}\n",
      "Loading the state dict at /gpfsssd/scratch/rech/cfs/commun/InfTrain_models/EN/50h/30/cpc_small/checkpoint_175.pt\n"
     ]
    },
    {
     "name": "stderr",
     "output_type": "stream",
     "text": [
      "  0%|          | 2/7042 [00:00<07:00, 16.75it/s]"
     ]
    },
    {
     "name": "stdout",
     "output_type": "stream",
     "text": [
      "Checkpoint loaded!\n",
      "\n",
      "Loading ClusterModule at /gpfsssd/scratch/rech/cfs/commun/InfTrain_models/EN/50h/30/kmeans50/checkpoint_last.pt\n",
      "Checkpoint loaded!\n",
      "\n"
     ]
    },
    {
     "name": "stderr",
     "output_type": "stream",
     "text": [
      "100%|██████████| 7042/7042 [06:53<00:00, 17.02it/s]\n"
     ]
    },
    {
     "name": "stdout",
     "output_type": "stream",
     "text": [
      "Loading args from /gpfsssd/scratch/rech/cfs/commun/InfTrain_models/EN/50h/30/kmeans50/args.json\n",
      "\n",
      "Clutering args:\n",
      "{\n",
      "    \"DPLambda\": 11,\n",
      "    \"DPMean\": false,\n",
      "    \"MAX_ITER\": 300,\n",
      "    \"batchSizeGPU\": 200,\n",
      "    \"centroidLimits\": null,\n",
      "    \"debug\": false,\n",
      "    \"dimReduction\": null,\n",
      "    \"dirOutput\": \"/gpfsssd/scratch/rech/cfs/commun/InfTrain_models/EN/50h/30/kmeans50\",\n",
      "    \"encoder_layer\": false,\n",
      "    \"extension\": \"wav\",\n",
      "    \"getDistanceEstimation\": false,\n",
      "    \"level_gru\": 2,\n",
      "    \"load\": null,\n",
      "    \"nClusters\": 50,\n",
      "    \"nGroups\": 1,\n",
      "    \"pathCheckpoint\": \"/gpfsssd/scratch/rech/cfs/commun/InfTrain_models/EN/50h/30/cpc_small/checkpoint_175.pt\",\n",
      "    \"pathDB\": \"/gpfsssd/scratch/rech/cfs/commun/families/EN/50h/30\",\n",
      "    \"perIterSize\": 1406,\n",
      "    \"recursionLevel\": 2,\n",
      "    \"save\": true,\n",
      "    \"save_last\": 5,\n",
      "    \"seqList\": null,\n",
      "    \"sizeWindow\": 10240,\n",
      "    \"train_mode\": false\n",
      "}\n",
      "--------------------------------------------------\n",
      "Loading checkpoint /gpfsssd/scratch/rech/cfs/commun/InfTrain_models/EN/50h/30/cpc_small/checkpoint_175.pt\n",
      "Loading checkpoint /gpfsscratch/rech/cfs/commun/InfTrain_models/EN/50h/30/cpc_small/checkpoint_145.pt\n",
      "Updating the configuration file with \n",
      "{\n",
      "    \"nLevelsGRU\": 2\n",
      "}\n",
      "Loading the state dict at /gpfsssd/scratch/rech/cfs/commun/InfTrain_models/EN/50h/30/cpc_small/checkpoint_175.pt\n"
     ]
    },
    {
     "name": "stderr",
     "output_type": "stream",
     "text": [
      "  0%|          | 2/7795 [00:00<07:00, 18.53it/s]"
     ]
    },
    {
     "name": "stdout",
     "output_type": "stream",
     "text": [
      "Checkpoint loaded!\n",
      "\n",
      "Loading ClusterModule at /gpfsssd/scratch/rech/cfs/commun/InfTrain_models/EN/50h/30/kmeans50/checkpoint_last.pt\n",
      "Checkpoint loaded!\n",
      "\n"
     ]
    },
    {
     "name": "stderr",
     "output_type": "stream",
     "text": [
      " 93%|█████████▎| 7261/7795 [06:37<00:28, 18.66it/s]"
     ]
    }
   ],
   "source": [
    "#HERE IS CORRECT\n",
    "\n",
    "\n",
    "\n",
    "#exp_list = [x for x in glob.glob(\"/gpfsssd/scratch/rech/cfs/commun/InfTrain_models/*/*/*/kmeans50\")]\n",
    "exp_list = [x for x in glob.glob(\"/gpfsssd/scratch/rech/cfs/commun/InfTrain_models/EN/*/*/kmeans50\")]\n",
    "\n",
    "prefix = \"/gpfsssd/scratch/rech/cfs/commun/InfTrain_models/\"\n",
    "for exp  in exp_list:\n",
    "    exp_path = exp[len(prefix):]\n",
    "    print(\"EXP_PATH = \", exp_path)\n",
    "    for lang in [\"en\", \"fr\"]:\n",
    "        if lang == \"fr\":\n",
    "            wav_list = wav_fr\n",
    "        elif lang == \"en\":\n",
    "            wav_list = wav_en\n",
    "        kmeans_cp = os.path.join(\"/gpfsssd/scratch/rech/cfs/commun/InfTrain_models/\", exp_path, \"checkpoint_last.pt\")\n",
    "        output_path=os.path.join(\"/gpfsdswork/projects/rech/ank/ucv88ce/projects/MultilingualCPC/experiments/eval/inftrain\", exp_path)\n",
    "        output_pkl=os.path.join(output_path, lang+\"_units.pkl\")\n",
    "\n",
    "        if not os.path.exists(output_path):\n",
    "            os.makedirs(output_path)\n",
    "\n",
    "        if not os.path.exists(output_pkl):\n",
    "            get_units(kmeans_cp, wav_list, output_pkl=output_pkl)\n",
    "\n",
    "\n"
   ]
  },
  {
   "cell_type": "code",
   "execution_count": null,
   "id": "f1a0192d",
   "metadata": {},
   "outputs": [],
   "source": [
    "#HERE IS CORRECT ( FR)\n",
    "\n",
    "\n",
    "\n",
    "#exp_list = [x for x in glob.glob(\"/gpfsssd/scratch/rech/cfs/commun/InfTrain_models/*/*/*/kmeans50\")]\n",
    "exp_list = [x for x in glob.glob(\"/gpfsssd/scratch/rech/cfs/commun/InfTrain_models/FR/*/*/kmeans50\")]\n",
    "\n",
    "prefix = \"/gpfsssd/scratch/rech/cfs/commun/InfTrain_models/\"\n",
    "for exp  in exp_list:\n",
    "    exp_path = exp[len(prefix):]\n",
    "    print(\"EXP_PATH = \", exp_path)\n",
    "    for lang in [\"en\", \"fr\"]:\n",
    "        if lang == \"fr\":\n",
    "            wav_list = wav_fr\n",
    "        elif lang == \"en\":\n",
    "            wav_list = wav_en\n",
    "        kmeans_cp = os.path.join(\"/gpfsssd/scratch/rech/cfs/commun/InfTrain_models/\", exp_path, \"checkpoint_last.pt\")\n",
    "        output_path=os.path.join(\"/gpfsdswork/projects/rech/ank/ucv88ce/projects/MultilingualCPC/experiments/eval/inftrain\", exp_path)\n",
    "        output_pkl=os.path.join(output_path, lang+\"_units.pkl\")\n",
    "\n",
    "        if not os.path.exists(output_path):\n",
    "            os.makedirs(output_path)\n",
    "\n",
    "        if not os.path.exists(output_pkl):\n",
    "            get_units(kmeans_cp, wav_list, output_pkl=output_pkl)\n",
    "\n",
    "\n"
   ]
  },
  {
   "cell_type": "code",
   "execution_count": 63,
   "id": "cb32d3db",
   "metadata": {},
   "outputs": [],
   "source": [
    "#need to double check. Function that is not thoroughly checked but seems to be working\n",
    "#this should lalow us to get average length\n",
    "\n",
    "#should obviously be done on a lit of file. \n",
    "\n",
    "\n",
    "units={x:[] for x in range(50)}\n",
    "T=FeatureMaker.feature_function(audio_file)\n",
    "a_tuple = (T == 1).nonzero(as_tuple=True)\n",
    "a=a_tuple[2]\n",
    "curr_unit=0\n",
    "for i in range(len(a)):\n",
    "    curr_unit+=1\n",
    "    if i+1 == len(a):#edge case\n",
    "        units[a[i].item()].append(curr_unit)\n",
    "        curr_unit=0\n",
    "    elif a[i+1].item() != a[i].item():\n",
    "        units[a[i].item()].append(curr_unit)\n",
    "        curr_unit=0\n",
    "\n",
    "        "
   ]
  },
  {
   "cell_type": "code",
   "execution_count": null,
   "id": "c9d1e9b8",
   "metadata": {},
   "outputs": [],
   "source": []
  }
 ],
 "metadata": {
  "kernelspec": {
   "display_name": "Python 3 (ipykernel)",
   "language": "python",
   "name": "python3"
  },
  "language_info": {
   "codemirror_mode": {
    "name": "ipython",
    "version": 3
   },
   "file_extension": ".py",
   "mimetype": "text/x-python",
   "name": "python",
   "nbconvert_exporter": "python",
   "pygments_lexer": "ipython3",
   "version": "3.8.5"
  }
 },
 "nbformat": 4,
 "nbformat_minor": 5
}
